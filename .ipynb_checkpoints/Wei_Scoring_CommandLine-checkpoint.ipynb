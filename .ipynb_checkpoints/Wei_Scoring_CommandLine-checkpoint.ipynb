{
 "cells": [
  {
   "cell_type": "code",
   "execution_count": 2,
   "metadata": {
    "collapsed": true
   },
   "outputs": [],
   "source": [
    "import pandas as pd\n",
    "import matplotlib.pyplot as plt\n",
    "import numpy as np\n",
    "from pandas.tseries.holiday import USFederalHolidayCalendar as calendar\n",
    "import sklearn\n",
    "from sklearn import linear_model\n",
    "from sklearn.model_selection import train_test_split\n",
    "from sklearn.model_selection import GridSearchCV\n",
    "from sklearn.feature_selection import RFE\n",
    "from sklearn.preprocessing import OneHotEncoder, scale, LabelEncoder\n",
    "from sklearn.metrics import mean_squared_error, r2_score\n",
    "import math \n",
    "from sklearn.linear_model import Ridge\n",
    "from sklearn.ensemble import RandomForestRegressor\n",
    "from sklearn import ensemble\n",
    "from sklearn.externals import joblib\n",
    "import json\n",
    "import warnings\n",
    "warnings.filterwarnings('ignore')\n",
    "\n",
    "\n",
    "import ScoringUtilities \n"
   ]
  },
  {
   "cell_type": "code",
   "execution_count": null,
   "metadata": {
    "collapsed": true
   },
   "outputs": [],
   "source": []
  },
  {
   "cell_type": "code",
   "execution_count": 3,
   "metadata": {
    "collapsed": true
   },
   "outputs": [],
   "source": [
    "unlabeled_json = r'D:/Learn/DoorDash/data_to_predict.json'\n",
    "store_category_count_table_file = r'D:\\Learn\\DoorDash\\store_category_count_table.csv'\n",
    "make_store_id_cont_table_file = r'D:\\Learn\\DoorDash\\make_store_id_cont_table.csv'\n",
    "train_file = r'D:\\Learn\\DoorDash\\historical_data.csv'\n",
    "\n",
    "store_category_count_table_df = pd.read_csv(store_category_count_table_file)\n",
    "make_store_id_cont_table_df = pd.read_csv(make_store_id_cont_table_file)\n",
    "Train = pd.read_csv(train_file)\n"
   ]
  },
  {
   "cell_type": "code",
   "execution_count": 4,
   "metadata": {
    "collapsed": true
   },
   "outputs": [],
   "source": [
    "unlabeled_df = ScoringUtilities.load_unlabeled_data(unlabeled_json)"
   ]
  },
  {
   "cell_type": "code",
   "execution_count": 5,
   "metadata": {
    "collapsed": true
   },
   "outputs": [],
   "source": [
    "unlabeled_df_merge_1 = unlabeled_df.merge(store_category_count_table_df, left_on='store_primary_category', right_on='store_primary_category', how='left')\n",
    "unlabeled_df_merge_2 = unlabeled_df_merge_1.merge(make_store_id_cont_table_df, left_on='store_id', right_on='store_id', how='left')\n",
    "unlabeled_df_merge_2[['market_id','estimated_order_place_duration','estimated_store_to_consumer_driving_duration',\n",
    "             'max_item_price','min_item_price', 'num_distinct_items', 'order_protocol',\n",
    "             'subtotal','total_onshift_dashers','total_busy_dashers','total_items','total_onshift_dashers',\n",
    "             'total_outstanding_orders', 'store_primary_category_count', 'store_id_count']] = unlabeled_df_merge_2[['market_id','estimated_order_place_duration','estimated_store_to_consumer_driving_duration',\n",
    "             'max_item_price','min_item_price', 'num_distinct_items', 'order_protocol',\n",
    "             'subtotal','total_onshift_dashers','total_busy_dashers','total_items','total_onshift_dashers',\n",
    "             'total_outstanding_orders', 'store_primary_category_count', 'store_id_count']].apply(pd.to_numeric, errors='coerce')\n"
   ]
  },
  {
   "cell_type": "code",
   "execution_count": 6,
   "metadata": {
    "collapsed": true
   },
   "outputs": [],
   "source": [
    "def process_unlabel(df):\n",
    "    a1 = ScoringUtilities.create_time_feature(df)\n",
    "    a = ScoringUtilities.process_continuous_features(a1)\n",
    "    b = ScoringUtilities.impute_market_id(a)\n",
    "    c = ScoringUtilities.impute_order_protocol(b)\n",
    "    d = ScoringUtilities.make_store_category_cont_score(c)\n",
    "    e = ScoringUtilities.make_store_id_cont_score(d)\n",
    "    unlabeled_ready = ScoringUtilities.select_features(e, 'Test')[0]\n",
    "    return unlabeled_ready, e"
   ]
  },
  {
   "cell_type": "code",
   "execution_count": 7,
   "metadata": {
    "collapsed": true
   },
   "outputs": [],
   "source": [
    "unlabeled_ready = process_unlabel(unlabeled_df_merge_2)[0]"
   ]
  },
  {
   "cell_type": "code",
   "execution_count": 8,
   "metadata": {
    "collapsed": true
   },
   "outputs": [],
   "source": [
    "#a1 = create_time_feature(unlabeled_df_merge_2)\n",
    "#a = process_continuous_features(a1)\n",
    "#b = impute_market_id(a)\n",
    "#c = impute_order_protocol(b)\n",
    "#d = make_store_category_cont_score(c)\n",
    "#e = make_store_id_cont_score(d)\n",
    "#unlabeled_ready = select_features(e, 'Test')[0]"
   ]
  },
  {
   "cell_type": "code",
   "execution_count": 9,
   "metadata": {
    "collapsed": true
   },
   "outputs": [],
   "source": [
    "def process_train(df):\n",
    "    a0 = ScoringUtilities.create_target(df)\n",
    "    a1 = ScoringUtilities.create_time_feature(a0)\n",
    "    a = ScoringUtilities.process_continuous_features(a1)\n",
    "    b = ScoringUtilities.impute_market_id(a)\n",
    "    c = ScoringUtilities.impute_order_protocol(b)\n",
    "    d = ScoringUtilities.make_store_category_cont(c)[0]\n",
    "    e = ScoringUtilities.make_store_id_cont(d)[0]\n",
    "    Train_ready = ScoringUtilities.select_features(e, 'Train')[0]\n",
    "    del Train_ready['duration']\n",
    "    return Train_ready"
   ]
  },
  {
   "cell_type": "code",
   "execution_count": 10,
   "metadata": {
    "collapsed": true
   },
   "outputs": [],
   "source": [
    "Train_ready = process_train(Train)"
   ]
  },
  {
   "cell_type": "code",
   "execution_count": 11,
   "metadata": {
    "collapsed": true
   },
   "outputs": [],
   "source": [
    "\n",
    "#a0 = create_target(Train)\n",
    "#a1 = create_time_feature(a0)\n",
    "#a = process_continuous_features(a1)\n",
    "#b = impute_market_id(a)\n",
    "#c = impute_order_protocol(b)\n",
    "#d = make_store_category_cont(c)[0]\n",
    "#e = make_store_id_cont(d)[0]\n",
    "#Train_ready = select_features(e, 'Train')[0]\n",
    "#del Train_ready['duration'] "
   ]
  },
  {
   "cell_type": "code",
   "execution_count": null,
   "metadata": {
    "collapsed": true
   },
   "outputs": [],
   "source": []
  },
  {
   "cell_type": "code",
   "execution_count": 12,
   "metadata": {
    "collapsed": true
   },
   "outputs": [],
   "source": [
    "train_plus_unlabel = pd.concat([Train_ready, unlabeled_ready], axis=0)\n",
    "NumFeatures = ScoringUtilities.select_features(process_unlabel(unlabeled_df_merge_2)[1], 'Test')[1]\n",
    "CatFeatures = ScoringUtilities.select_features(process_unlabel(unlabeled_df_merge_2)[1], 'Test')[2]\n",
    "train_plus_unlabel_encoded = ScoringUtilities.scale_oneHot_X(train_plus_unlabel, NumFeatures,CatFeatures)\n",
    "unlabeled_ready2 = train_plus_unlabel_encoded.tail(unlabeled_ready.shape[0])"
   ]
  },
  {
   "cell_type": "code",
   "execution_count": 13,
   "metadata": {
    "collapsed": true
   },
   "outputs": [],
   "source": [
    "gbm_pred = ScoringUtilities.make_prediction('gbm_model_saved.pkl', unlabeled_ready2)"
   ]
  },
  {
   "cell_type": "code",
   "execution_count": 14,
   "metadata": {},
   "outputs": [
    {
     "name": "stdout",
     "output_type": "stream",
     "text": [
      "54778\n"
     ]
    }
   ],
   "source": [
    "print(len(gbm_pred))"
   ]
  },
  {
   "cell_type": "code",
   "execution_count": 15,
   "metadata": {},
   "outputs": [
    {
     "data": {
      "text/plain": [
       "array([ 3066.25951689,  2836.03493721,  3136.0031403 ,  2946.97669541,\n",
       "        2602.90886164,  3313.77117553,  3055.67257941,  2423.78604448,\n",
       "        2235.46169491,  2616.2855599 ,  1753.19301285,  2180.29426445,\n",
       "        2669.74491498,  2806.07551361,  2411.71261746,  2419.71494104,\n",
       "        2286.95359022,  2297.98029943,  2623.07913919,  2625.6808472 ])"
      ]
     },
     "execution_count": 15,
     "metadata": {},
     "output_type": "execute_result"
    }
   ],
   "source": [
    "gbm_pred[:20]"
   ]
  },
  {
   "cell_type": "code",
   "execution_count": 19,
   "metadata": {},
   "outputs": [
    {
     "name": "stdout",
     "output_type": "stream",
     "text": [
      "First 20 records are: \n",
      " [ 3066.25951689  2836.03493721  3136.0031403   2946.97669541  2602.90886164\n",
      "  3313.77117553  3055.67257941  2423.78604448  2235.46169491  2616.2855599\n",
      "  1753.19301285  2180.29426445  2669.74491498  2806.07551361  2411.71261746\n",
      "  2419.71494104  2286.95359022  2297.98029943  2623.07913919  2625.6808472 ] \n"
     ]
    }
   ],
   "source": [
    "print(\"First 20 records are: \\n {} \".format(gbm_pred[:20]) )"
   ]
  }
 ],
 "metadata": {
  "kernelspec": {
   "display_name": "Python 3",
   "language": "python",
   "name": "python3"
  },
  "language_info": {
   "codemirror_mode": {
    "name": "ipython",
    "version": 3
   },
   "file_extension": ".py",
   "mimetype": "text/x-python",
   "name": "python",
   "nbconvert_exporter": "python",
   "pygments_lexer": "ipython3",
   "version": "3.6.3"
  }
 },
 "nbformat": 4,
 "nbformat_minor": 2
}
