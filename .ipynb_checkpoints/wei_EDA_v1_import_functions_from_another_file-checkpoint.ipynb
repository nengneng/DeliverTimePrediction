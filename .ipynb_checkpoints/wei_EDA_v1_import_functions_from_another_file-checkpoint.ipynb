{
 "cells": [
  {
   "cell_type": "markdown",
   "metadata": {},
   "source": [
    "### import libraries"
   ]
  },
  {
   "cell_type": "code",
   "execution_count": 1,
   "metadata": {},
   "outputs": [],
   "source": [
    "import pandas as pd\n",
    "import matplotlib.pyplot as plt\n",
    "import numpy as np\n",
    "from pandas.tseries.holiday import USFederalHolidayCalendar as calendar\n",
    "import Utilities \n",
    "\n",
    "import warnings\n",
    "warnings.filterwarnings('ignore')"
   ]
  },
  {
   "cell_type": "markdown",
   "metadata": {},
   "source": [
    "### Read in data"
   ]
  },
  {
   "cell_type": "code",
   "execution_count": 2,
   "metadata": {
    "collapsed": true
   },
   "outputs": [],
   "source": [
    "Train = pd.read_csv(r'D:\\Learn\\DoorDash\\historical_data.csv')"
   ]
  },
  {
   "cell_type": "code",
   "execution_count": 3,
   "metadata": {},
   "outputs": [
    {
     "data": {
      "text/plain": [
       "market_id                                       float64\n",
       "created_at                                       object\n",
       "actual_delivery_time                             object\n",
       "store_id                                         object\n",
       "store_primary_category                           object\n",
       "order_protocol                                  float64\n",
       "total_items                                       int64\n",
       "subtotal                                          int64\n",
       "num_distinct_items                                int64\n",
       "min_item_price                                    int64\n",
       "max_item_price                                    int64\n",
       "total_onshift_dashers                           float64\n",
       "total_busy_dashers                              float64\n",
       "total_outstanding_orders                        float64\n",
       "estimated_order_place_duration                    int64\n",
       "estimated_store_to_consumer_driving_duration    float64\n",
       "dtype: object"
      ]
     },
     "execution_count": 3,
     "metadata": {},
     "output_type": "execute_result"
    }
   ],
   "source": [
    "Train.dtypes"
   ]
  },
  {
   "cell_type": "code",
   "execution_count": 4,
   "metadata": {},
   "outputs": [
    {
     "data": {
      "text/plain": [
       "(197428, 16)"
      ]
     },
     "execution_count": 4,
     "metadata": {},
     "output_type": "execute_result"
    }
   ],
   "source": [
    "Train.shape"
   ]
  },
  {
   "cell_type": "code",
   "execution_count": 5,
   "metadata": {},
   "outputs": [
    {
     "data": {
      "text/html": [
       "<div>\n",
       "<style>\n",
       "    .dataframe thead tr:only-child th {\n",
       "        text-align: right;\n",
       "    }\n",
       "\n",
       "    .dataframe thead th {\n",
       "        text-align: left;\n",
       "    }\n",
       "\n",
       "    .dataframe tbody tr th {\n",
       "        vertical-align: top;\n",
       "    }\n",
       "</style>\n",
       "<table border=\"1\" class=\"dataframe\">\n",
       "  <thead>\n",
       "    <tr style=\"text-align: right;\">\n",
       "      <th></th>\n",
       "      <th>market_id</th>\n",
       "      <th>created_at</th>\n",
       "      <th>actual_delivery_time</th>\n",
       "      <th>store_id</th>\n",
       "      <th>store_primary_category</th>\n",
       "      <th>order_protocol</th>\n",
       "      <th>total_items</th>\n",
       "      <th>subtotal</th>\n",
       "      <th>num_distinct_items</th>\n",
       "      <th>min_item_price</th>\n",
       "      <th>max_item_price</th>\n",
       "      <th>total_onshift_dashers</th>\n",
       "      <th>total_busy_dashers</th>\n",
       "      <th>total_outstanding_orders</th>\n",
       "      <th>estimated_order_place_duration</th>\n",
       "      <th>estimated_store_to_consumer_driving_duration</th>\n",
       "    </tr>\n",
       "  </thead>\n",
       "  <tbody>\n",
       "    <tr>\n",
       "      <th>0</th>\n",
       "      <td>1.0</td>\n",
       "      <td>2015-02-06 22:24:17</td>\n",
       "      <td>2015-02-06 23:27:16</td>\n",
       "      <td>df263d996281d984952c07998dc54358</td>\n",
       "      <td>american</td>\n",
       "      <td>1.0</td>\n",
       "      <td>4</td>\n",
       "      <td>3441</td>\n",
       "      <td>4</td>\n",
       "      <td>557</td>\n",
       "      <td>1239</td>\n",
       "      <td>33.0</td>\n",
       "      <td>14.0</td>\n",
       "      <td>21.0</td>\n",
       "      <td>446</td>\n",
       "      <td>861.0</td>\n",
       "    </tr>\n",
       "    <tr>\n",
       "      <th>1</th>\n",
       "      <td>2.0</td>\n",
       "      <td>2015-02-10 21:49:25</td>\n",
       "      <td>2015-02-10 22:56:29</td>\n",
       "      <td>f0ade77b43923b38237db569b016ba25</td>\n",
       "      <td>mexican</td>\n",
       "      <td>2.0</td>\n",
       "      <td>1</td>\n",
       "      <td>1900</td>\n",
       "      <td>1</td>\n",
       "      <td>1400</td>\n",
       "      <td>1400</td>\n",
       "      <td>1.0</td>\n",
       "      <td>2.0</td>\n",
       "      <td>2.0</td>\n",
       "      <td>446</td>\n",
       "      <td>690.0</td>\n",
       "    </tr>\n",
       "    <tr>\n",
       "      <th>2</th>\n",
       "      <td>3.0</td>\n",
       "      <td>2015-01-22 20:39:28</td>\n",
       "      <td>2015-01-22 21:09:09</td>\n",
       "      <td>f0ade77b43923b38237db569b016ba25</td>\n",
       "      <td>NaN</td>\n",
       "      <td>1.0</td>\n",
       "      <td>1</td>\n",
       "      <td>1900</td>\n",
       "      <td>1</td>\n",
       "      <td>1900</td>\n",
       "      <td>1900</td>\n",
       "      <td>1.0</td>\n",
       "      <td>0.0</td>\n",
       "      <td>0.0</td>\n",
       "      <td>446</td>\n",
       "      <td>690.0</td>\n",
       "    </tr>\n",
       "    <tr>\n",
       "      <th>3</th>\n",
       "      <td>3.0</td>\n",
       "      <td>2015-02-03 21:21:45</td>\n",
       "      <td>2015-02-03 22:13:00</td>\n",
       "      <td>f0ade77b43923b38237db569b016ba25</td>\n",
       "      <td>NaN</td>\n",
       "      <td>1.0</td>\n",
       "      <td>6</td>\n",
       "      <td>6900</td>\n",
       "      <td>5</td>\n",
       "      <td>600</td>\n",
       "      <td>1800</td>\n",
       "      <td>1.0</td>\n",
       "      <td>1.0</td>\n",
       "      <td>2.0</td>\n",
       "      <td>446</td>\n",
       "      <td>289.0</td>\n",
       "    </tr>\n",
       "    <tr>\n",
       "      <th>4</th>\n",
       "      <td>3.0</td>\n",
       "      <td>2015-02-15 02:40:36</td>\n",
       "      <td>2015-02-15 03:20:26</td>\n",
       "      <td>f0ade77b43923b38237db569b016ba25</td>\n",
       "      <td>NaN</td>\n",
       "      <td>1.0</td>\n",
       "      <td>3</td>\n",
       "      <td>3900</td>\n",
       "      <td>3</td>\n",
       "      <td>1100</td>\n",
       "      <td>1600</td>\n",
       "      <td>6.0</td>\n",
       "      <td>6.0</td>\n",
       "      <td>9.0</td>\n",
       "      <td>446</td>\n",
       "      <td>650.0</td>\n",
       "    </tr>\n",
       "  </tbody>\n",
       "</table>\n",
       "</div>"
      ],
      "text/plain": [
       "   market_id           created_at actual_delivery_time  \\\n",
       "0        1.0  2015-02-06 22:24:17  2015-02-06 23:27:16   \n",
       "1        2.0  2015-02-10 21:49:25  2015-02-10 22:56:29   \n",
       "2        3.0  2015-01-22 20:39:28  2015-01-22 21:09:09   \n",
       "3        3.0  2015-02-03 21:21:45  2015-02-03 22:13:00   \n",
       "4        3.0  2015-02-15 02:40:36  2015-02-15 03:20:26   \n",
       "\n",
       "                           store_id store_primary_category  order_protocol  \\\n",
       "0  df263d996281d984952c07998dc54358               american             1.0   \n",
       "1  f0ade77b43923b38237db569b016ba25                mexican             2.0   \n",
       "2  f0ade77b43923b38237db569b016ba25                    NaN             1.0   \n",
       "3  f0ade77b43923b38237db569b016ba25                    NaN             1.0   \n",
       "4  f0ade77b43923b38237db569b016ba25                    NaN             1.0   \n",
       "\n",
       "   total_items  subtotal  num_distinct_items  min_item_price  max_item_price  \\\n",
       "0            4      3441                   4             557            1239   \n",
       "1            1      1900                   1            1400            1400   \n",
       "2            1      1900                   1            1900            1900   \n",
       "3            6      6900                   5             600            1800   \n",
       "4            3      3900                   3            1100            1600   \n",
       "\n",
       "   total_onshift_dashers  total_busy_dashers  total_outstanding_orders  \\\n",
       "0                   33.0                14.0                      21.0   \n",
       "1                    1.0                 2.0                       2.0   \n",
       "2                    1.0                 0.0                       0.0   \n",
       "3                    1.0                 1.0                       2.0   \n",
       "4                    6.0                 6.0                       9.0   \n",
       "\n",
       "   estimated_order_place_duration  \\\n",
       "0                             446   \n",
       "1                             446   \n",
       "2                             446   \n",
       "3                             446   \n",
       "4                             446   \n",
       "\n",
       "   estimated_store_to_consumer_driving_duration  \n",
       "0                                         861.0  \n",
       "1                                         690.0  \n",
       "2                                         690.0  \n",
       "3                                         289.0  \n",
       "4                                         650.0  "
      ]
     },
     "execution_count": 5,
     "metadata": {},
     "output_type": "execute_result"
    }
   ],
   "source": [
    "Train.head()"
   ]
  },
  {
   "cell_type": "markdown",
   "metadata": {},
   "source": [
    "### Descriptive statistics"
   ]
  },
  {
   "cell_type": "markdown",
   "metadata": {},
   "source": [
    "#### Summary Table for continuous features"
   ]
  },
  {
   "cell_type": "code",
   "execution_count": 7,
   "metadata": {},
   "outputs": [
    {
     "data": {
      "text/html": [
       "<div>\n",
       "<style>\n",
       "    .dataframe thead tr:only-child th {\n",
       "        text-align: right;\n",
       "    }\n",
       "\n",
       "    .dataframe thead th {\n",
       "        text-align: left;\n",
       "    }\n",
       "\n",
       "    .dataframe tbody tr th {\n",
       "        vertical-align: top;\n",
       "    }\n",
       "</style>\n",
       "<table border=\"1\" class=\"dataframe\">\n",
       "  <thead>\n",
       "    <tr style=\"text-align: right;\">\n",
       "      <th></th>\n",
       "      <th>count</th>\n",
       "      <th>mean</th>\n",
       "      <th>std</th>\n",
       "      <th>min</th>\n",
       "      <th>25%</th>\n",
       "      <th>50%</th>\n",
       "      <th>75%</th>\n",
       "      <th>max</th>\n",
       "      <th>missing</th>\n",
       "      <th>pct_missing</th>\n",
       "      <th>unique</th>\n",
       "      <th>DataType</th>\n",
       "    </tr>\n",
       "  </thead>\n",
       "  <tbody>\n",
       "    <tr>\n",
       "      <th>market_id</th>\n",
       "      <td>196441.0</td>\n",
       "      <td>2.978706</td>\n",
       "      <td>1.524867</td>\n",
       "      <td>1.0</td>\n",
       "      <td>2.0</td>\n",
       "      <td>3.0</td>\n",
       "      <td>4.0</td>\n",
       "      <td>6.0</td>\n",
       "      <td>987</td>\n",
       "      <td>0.005024</td>\n",
       "      <td>7</td>\n",
       "      <td>float64</td>\n",
       "    </tr>\n",
       "    <tr>\n",
       "      <th>order_protocol</th>\n",
       "      <td>196433.0</td>\n",
       "      <td>2.882352</td>\n",
       "      <td>1.503771</td>\n",
       "      <td>1.0</td>\n",
       "      <td>1.0</td>\n",
       "      <td>3.0</td>\n",
       "      <td>4.0</td>\n",
       "      <td>7.0</td>\n",
       "      <td>995</td>\n",
       "      <td>0.005065</td>\n",
       "      <td>8</td>\n",
       "      <td>float64</td>\n",
       "    </tr>\n",
       "    <tr>\n",
       "      <th>total_items</th>\n",
       "      <td>197428.0</td>\n",
       "      <td>3.196391</td>\n",
       "      <td>2.666546</td>\n",
       "      <td>1.0</td>\n",
       "      <td>2.0</td>\n",
       "      <td>3.0</td>\n",
       "      <td>4.0</td>\n",
       "      <td>411.0</td>\n",
       "      <td>0</td>\n",
       "      <td>0.000000</td>\n",
       "      <td>57</td>\n",
       "      <td>int64</td>\n",
       "    </tr>\n",
       "    <tr>\n",
       "      <th>subtotal</th>\n",
       "      <td>197428.0</td>\n",
       "      <td>2682.331402</td>\n",
       "      <td>1823.093688</td>\n",
       "      <td>0.0</td>\n",
       "      <td>1400.0</td>\n",
       "      <td>2200.0</td>\n",
       "      <td>3395.0</td>\n",
       "      <td>27100.0</td>\n",
       "      <td>0</td>\n",
       "      <td>0.000000</td>\n",
       "      <td>8368</td>\n",
       "      <td>int64</td>\n",
       "    </tr>\n",
       "    <tr>\n",
       "      <th>num_distinct_items</th>\n",
       "      <td>197428.0</td>\n",
       "      <td>2.670791</td>\n",
       "      <td>1.630255</td>\n",
       "      <td>1.0</td>\n",
       "      <td>1.0</td>\n",
       "      <td>2.0</td>\n",
       "      <td>3.0</td>\n",
       "      <td>20.0</td>\n",
       "      <td>0</td>\n",
       "      <td>0.000000</td>\n",
       "      <td>20</td>\n",
       "      <td>int64</td>\n",
       "    </tr>\n",
       "    <tr>\n",
       "      <th>min_item_price</th>\n",
       "      <td>197428.0</td>\n",
       "      <td>686.218470</td>\n",
       "      <td>522.038648</td>\n",
       "      <td>-86.0</td>\n",
       "      <td>299.0</td>\n",
       "      <td>595.0</td>\n",
       "      <td>949.0</td>\n",
       "      <td>14700.0</td>\n",
       "      <td>0</td>\n",
       "      <td>0.000000</td>\n",
       "      <td>2312</td>\n",
       "      <td>int64</td>\n",
       "    </tr>\n",
       "    <tr>\n",
       "      <th>max_item_price</th>\n",
       "      <td>197428.0</td>\n",
       "      <td>1159.588630</td>\n",
       "      <td>558.411377</td>\n",
       "      <td>0.0</td>\n",
       "      <td>800.0</td>\n",
       "      <td>1095.0</td>\n",
       "      <td>1395.0</td>\n",
       "      <td>14700.0</td>\n",
       "      <td>0</td>\n",
       "      <td>0.000000</td>\n",
       "      <td>2652</td>\n",
       "      <td>int64</td>\n",
       "    </tr>\n",
       "    <tr>\n",
       "      <th>total_onshift_dashers</th>\n",
       "      <td>181166.0</td>\n",
       "      <td>44.808093</td>\n",
       "      <td>34.526783</td>\n",
       "      <td>-4.0</td>\n",
       "      <td>17.0</td>\n",
       "      <td>37.0</td>\n",
       "      <td>65.0</td>\n",
       "      <td>171.0</td>\n",
       "      <td>16262</td>\n",
       "      <td>0.089763</td>\n",
       "      <td>173</td>\n",
       "      <td>float64</td>\n",
       "    </tr>\n",
       "    <tr>\n",
       "      <th>total_busy_dashers</th>\n",
       "      <td>181166.0</td>\n",
       "      <td>41.739747</td>\n",
       "      <td>32.145733</td>\n",
       "      <td>-5.0</td>\n",
       "      <td>15.0</td>\n",
       "      <td>34.0</td>\n",
       "      <td>62.0</td>\n",
       "      <td>154.0</td>\n",
       "      <td>16262</td>\n",
       "      <td>0.089763</td>\n",
       "      <td>160</td>\n",
       "      <td>float64</td>\n",
       "    </tr>\n",
       "    <tr>\n",
       "      <th>total_outstanding_orders</th>\n",
       "      <td>181166.0</td>\n",
       "      <td>58.050065</td>\n",
       "      <td>52.661830</td>\n",
       "      <td>-6.0</td>\n",
       "      <td>17.0</td>\n",
       "      <td>41.0</td>\n",
       "      <td>85.0</td>\n",
       "      <td>285.0</td>\n",
       "      <td>16262</td>\n",
       "      <td>0.089763</td>\n",
       "      <td>282</td>\n",
       "      <td>float64</td>\n",
       "    </tr>\n",
       "    <tr>\n",
       "      <th>estimated_order_place_duration</th>\n",
       "      <td>197428.0</td>\n",
       "      <td>308.560179</td>\n",
       "      <td>90.139653</td>\n",
       "      <td>0.0</td>\n",
       "      <td>251.0</td>\n",
       "      <td>251.0</td>\n",
       "      <td>446.0</td>\n",
       "      <td>2715.0</td>\n",
       "      <td>0</td>\n",
       "      <td>0.000000</td>\n",
       "      <td>98</td>\n",
       "      <td>int64</td>\n",
       "    </tr>\n",
       "    <tr>\n",
       "      <th>estimated_store_to_consumer_driving_duration</th>\n",
       "      <td>196902.0</td>\n",
       "      <td>545.358935</td>\n",
       "      <td>219.352902</td>\n",
       "      <td>0.0</td>\n",
       "      <td>382.0</td>\n",
       "      <td>544.0</td>\n",
       "      <td>702.0</td>\n",
       "      <td>2088.0</td>\n",
       "      <td>526</td>\n",
       "      <td>0.002671</td>\n",
       "      <td>1337</td>\n",
       "      <td>float64</td>\n",
       "    </tr>\n",
       "  </tbody>\n",
       "</table>\n",
       "</div>"
      ],
      "text/plain": [
       "                                                 count         mean  \\\n",
       "market_id                                     196441.0     2.978706   \n",
       "order_protocol                                196433.0     2.882352   \n",
       "total_items                                   197428.0     3.196391   \n",
       "subtotal                                      197428.0  2682.331402   \n",
       "num_distinct_items                            197428.0     2.670791   \n",
       "min_item_price                                197428.0   686.218470   \n",
       "max_item_price                                197428.0  1159.588630   \n",
       "total_onshift_dashers                         181166.0    44.808093   \n",
       "total_busy_dashers                            181166.0    41.739747   \n",
       "total_outstanding_orders                      181166.0    58.050065   \n",
       "estimated_order_place_duration                197428.0   308.560179   \n",
       "estimated_store_to_consumer_driving_duration  196902.0   545.358935   \n",
       "\n",
       "                                                      std   min     25%  \\\n",
       "market_id                                        1.524867   1.0     2.0   \n",
       "order_protocol                                   1.503771   1.0     1.0   \n",
       "total_items                                      2.666546   1.0     2.0   \n",
       "subtotal                                      1823.093688   0.0  1400.0   \n",
       "num_distinct_items                               1.630255   1.0     1.0   \n",
       "min_item_price                                 522.038648 -86.0   299.0   \n",
       "max_item_price                                 558.411377   0.0   800.0   \n",
       "total_onshift_dashers                           34.526783  -4.0    17.0   \n",
       "total_busy_dashers                              32.145733  -5.0    15.0   \n",
       "total_outstanding_orders                        52.661830  -6.0    17.0   \n",
       "estimated_order_place_duration                  90.139653   0.0   251.0   \n",
       "estimated_store_to_consumer_driving_duration   219.352902   0.0   382.0   \n",
       "\n",
       "                                                 50%     75%      max  \\\n",
       "market_id                                        3.0     4.0      6.0   \n",
       "order_protocol                                   3.0     4.0      7.0   \n",
       "total_items                                      3.0     4.0    411.0   \n",
       "subtotal                                      2200.0  3395.0  27100.0   \n",
       "num_distinct_items                               2.0     3.0     20.0   \n",
       "min_item_price                                 595.0   949.0  14700.0   \n",
       "max_item_price                                1095.0  1395.0  14700.0   \n",
       "total_onshift_dashers                           37.0    65.0    171.0   \n",
       "total_busy_dashers                              34.0    62.0    154.0   \n",
       "total_outstanding_orders                        41.0    85.0    285.0   \n",
       "estimated_order_place_duration                 251.0   446.0   2715.0   \n",
       "estimated_store_to_consumer_driving_duration   544.0   702.0   2088.0   \n",
       "\n",
       "                                              missing  pct_missing  unique  \\\n",
       "market_id                                         987     0.005024       7   \n",
       "order_protocol                                    995     0.005065       8   \n",
       "total_items                                         0     0.000000      57   \n",
       "subtotal                                            0     0.000000    8368   \n",
       "num_distinct_items                                  0     0.000000      20   \n",
       "min_item_price                                      0     0.000000    2312   \n",
       "max_item_price                                      0     0.000000    2652   \n",
       "total_onshift_dashers                           16262     0.089763     173   \n",
       "total_busy_dashers                              16262     0.089763     160   \n",
       "total_outstanding_orders                        16262     0.089763     282   \n",
       "estimated_order_place_duration                      0     0.000000      98   \n",
       "estimated_store_to_consumer_driving_duration      526     0.002671    1337   \n",
       "\n",
       "                                             DataType  \n",
       "market_id                                     float64  \n",
       "order_protocol                                float64  \n",
       "total_items                                     int64  \n",
       "subtotal                                        int64  \n",
       "num_distinct_items                              int64  \n",
       "min_item_price                                  int64  \n",
       "max_item_price                                  int64  \n",
       "total_onshift_dashers                         float64  \n",
       "total_busy_dashers                            float64  \n",
       "total_outstanding_orders                      float64  \n",
       "estimated_order_place_duration                  int64  \n",
       "estimated_store_to_consumer_driving_duration  float64  "
      ]
     },
     "execution_count": 7,
     "metadata": {},
     "output_type": "execute_result"
    }
   ],
   "source": [
    "Utilities.create_summary_table(Train)[0]"
   ]
  },
  {
   "cell_type": "markdown",
   "metadata": {},
   "source": [
    "#### Summary Table for categorical features"
   ]
  },
  {
   "cell_type": "code",
   "execution_count": 8,
   "metadata": {},
   "outputs": [
    {
     "data": {
      "text/html": [
       "<div>\n",
       "<style>\n",
       "    .dataframe thead tr:only-child th {\n",
       "        text-align: right;\n",
       "    }\n",
       "\n",
       "    .dataframe thead th {\n",
       "        text-align: left;\n",
       "    }\n",
       "\n",
       "    .dataframe tbody tr th {\n",
       "        vertical-align: top;\n",
       "    }\n",
       "</style>\n",
       "<table border=\"1\" class=\"dataframe\">\n",
       "  <thead>\n",
       "    <tr style=\"text-align: right;\">\n",
       "      <th></th>\n",
       "      <th>missing</th>\n",
       "      <th>unique</th>\n",
       "      <th>DataType</th>\n",
       "    </tr>\n",
       "  </thead>\n",
       "  <tbody>\n",
       "    <tr>\n",
       "      <th>created_at</th>\n",
       "      <td>0</td>\n",
       "      <td>180985</td>\n",
       "      <td>object</td>\n",
       "    </tr>\n",
       "    <tr>\n",
       "      <th>actual_delivery_time</th>\n",
       "      <td>7</td>\n",
       "      <td>178111</td>\n",
       "      <td>object</td>\n",
       "    </tr>\n",
       "    <tr>\n",
       "      <th>store_id</th>\n",
       "      <td>0</td>\n",
       "      <td>6743</td>\n",
       "      <td>object</td>\n",
       "    </tr>\n",
       "    <tr>\n",
       "      <th>store_primary_category</th>\n",
       "      <td>4760</td>\n",
       "      <td>75</td>\n",
       "      <td>object</td>\n",
       "    </tr>\n",
       "  </tbody>\n",
       "</table>\n",
       "</div>"
      ],
      "text/plain": [
       "                        missing  unique DataType\n",
       "created_at                    0  180985   object\n",
       "actual_delivery_time          7  178111   object\n",
       "store_id                      0    6743   object\n",
       "store_primary_category     4760      75   object"
      ]
     },
     "execution_count": 8,
     "metadata": {},
     "output_type": "execute_result"
    }
   ],
   "source": [
    "Utilities.create_summary_table(Train)[1]"
   ]
  },
  {
   "cell_type": "markdown",
   "metadata": {},
   "source": [
    "### Process Data"
   ]
  },
  {
   "cell_type": "code",
   "execution_count": null,
   "metadata": {},
   "outputs": [],
   "source": [
    "Train_with_label = Utilities.create_target(Train)"
   ]
  },
  {
   "cell_type": "code",
   "execution_count": null,
   "metadata": {},
   "outputs": [],
   "source": [
    "Train_with_label.head()"
   ]
  },
  {
   "cell_type": "code",
   "execution_count": null,
   "metadata": {
    "collapsed": true
   },
   "outputs": [],
   "source": [
    "Train_with_label_time = Utilities.create_time_feature(Train_with_label)"
   ]
  },
  {
   "cell_type": "code",
   "execution_count": null,
   "metadata": {},
   "outputs": [],
   "source": [
    "Train_with_label_time.head()"
   ]
  },
  {
   "cell_type": "code",
   "execution_count": null,
   "metadata": {},
   "outputs": [],
   "source": [
    "# check the outliers of target variable\n",
    "dur = Train_with_label_time['duration'].tolist()\n",
    "dur2 = [x/3600 for x in dur]\n",
    "len([x for x in dur2 if x > 2])"
   ]
  },
  {
   "cell_type": "markdown",
   "metadata": {},
   "source": [
    "### EDA plots"
   ]
  },
  {
   "cell_type": "code",
   "execution_count": null,
   "metadata": {
    "collapsed": true
   },
   "outputs": [],
   "source": [
    "# Filter duration > 7200 seconds orders, 1090 records removed\n",
    "Train_with_label_time = Train_with_label_time.loc[Train_with_label_time['duration'] <= 7200]\n",
    "\n",
    "duration_by_hour = Train_with_label_time.groupby(['created_at_hour'], as_index=False)['duration'].mean()\n",
    "duration_by_dayOfWeek = Train_with_label_time.groupby(['created_at_dayOfWeek'], as_index=False)['duration'].mean()\n",
    "duration_by_IsWeekend = Train_with_label_time.groupby(['created_at_isWeekend'], as_index=False)['duration'].mean()\n",
    "duration_by_IsHoliday = Train_with_label_time.groupby(['created_at_isHoliday'], as_index=False)['duration'].mean()\n",
    "duration_by_month = Train_with_label_time.groupby(['created_at_month'], as_index=False)['duration'].mean()\n",
    "\n",
    "duration_by_orderProcotal = Train_with_label_time.groupby(['order_protocol'], as_index=False)['duration'].mean()\n",
    "duration_by_totalItems = Train_with_label_time.groupby(['total_items'], as_index=False)['duration'].mean()\n",
    "duration_by_distinctItems = Train_with_label_time.groupby(['num_distinct_items'], as_index=False)['duration'].mean()\n"
   ]
  },
  {
   "cell_type": "code",
   "execution_count": null,
   "metadata": {},
   "outputs": [],
   "source": [
    "Utilities.create_plot(duration_by_hour, 'created_at_hour', 'duration')"
   ]
  },
  {
   "cell_type": "code",
   "execution_count": null,
   "metadata": {},
   "outputs": [],
   "source": [
    "Utilities.create_plot(duration_by_dayOfWeek, 'created_at_dayOfWeek', 'duration')"
   ]
  },
  {
   "cell_type": "code",
   "execution_count": null,
   "metadata": {},
   "outputs": [],
   "source": [
    "Utilities.create_plot(duration_by_IsWeekend, 'created_at_isWeekend', 'duration')"
   ]
  },
  {
   "cell_type": "code",
   "execution_count": null,
   "metadata": {},
   "outputs": [],
   "source": [
    "Utilities.create_plot(duration_by_IsHoliday, 'created_at_isHoliday', 'duration')"
   ]
  },
  {
   "cell_type": "code",
   "execution_count": null,
   "metadata": {},
   "outputs": [],
   "source": [
    "Utilities.create_plot(duration_by_month, 'created_at_month', 'duration')"
   ]
  },
  {
   "cell_type": "code",
   "execution_count": null,
   "metadata": {},
   "outputs": [],
   "source": [
    "Utilities.create_plot(duration_by_orderProcotal, 'order_protocol', 'duration')"
   ]
  },
  {
   "cell_type": "code",
   "execution_count": null,
   "metadata": {},
   "outputs": [],
   "source": [
    "# Total_items = 411 is an outlier\n",
    "Utilities.create_plot(duration_by_totalItems[duration_by_totalItems['total_items']<411], 'total_items', 'duration')"
   ]
  },
  {
   "cell_type": "code",
   "execution_count": null,
   "metadata": {},
   "outputs": [],
   "source": [
    "Utilities.create_plot(duration_by_distinctItems, 'num_distinct_items', 'duration')"
   ]
  },
  {
   "cell_type": "code",
   "execution_count": null,
   "metadata": {
    "collapsed": true
   },
   "outputs": [],
   "source": []
  }
 ],
 "metadata": {
  "kernelspec": {
   "display_name": "Python 3",
   "language": "python",
   "name": "python3"
  },
  "language_info": {
   "codemirror_mode": {
    "name": "ipython",
    "version": 3
   },
   "file_extension": ".py",
   "mimetype": "text/x-python",
   "name": "python",
   "nbconvert_exporter": "python",
   "pygments_lexer": "ipython3",
   "version": "3.6.3"
  }
 },
 "nbformat": 4,
 "nbformat_minor": 2
}
