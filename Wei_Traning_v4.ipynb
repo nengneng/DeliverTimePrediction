{
 "cells": [
  {
   "cell_type": "markdown",
   "metadata": {},
   "source": [
    "## Import libraries"
   ]
  },
  {
   "cell_type": "code",
   "execution_count": 6,
   "metadata": {
    "collapsed": true
   },
   "outputs": [],
   "source": [
    "import pandas as pd\n",
    "import matplotlib.pyplot as plt\n",
    "import numpy as np\n",
    "from pandas.tseries.holiday import USFederalHolidayCalendar as calendar\n",
    "\n",
    "import sklearn\n",
    "from sklearn import linear_model\n",
    "from sklearn.model_selection import train_test_split\n",
    "from sklearn.model_selection import GridSearchCV\n",
    "from sklearn.feature_selection import RFE\n",
    "from sklearn.preprocessing import OneHotEncoder, scale, LabelEncoder\n",
    "from sklearn.metrics import mean_squared_error, r2_score\n",
    "import math \n",
    "\n",
    "from sklearn.linear_model import Ridge\n",
    "\n",
    "from sklearn.ensemble import RandomForestRegressor\n",
    "from sklearn import ensemble\n",
    "\n",
    "from sklearn.externals import joblib\n",
    "\n",
    "import json\n",
    "\n",
    "import warnings\n",
    "warnings.filterwarnings('ignore')"
   ]
  },
  {
   "cell_type": "markdown",
   "metadata": {},
   "source": [
    "## Some useful functions "
   ]
  },
  {
   "cell_type": "markdown",
   "metadata": {},
   "source": [
    "### Create Target Variable: duration"
   ]
  },
  {
   "cell_type": "code",
   "execution_count": 7,
   "metadata": {
    "collapsed": true
   },
   "outputs": [],
   "source": [
    "def create_target(df):\n",
    "    # drop those records that have missing actual delivery time\n",
    "    df = df[pd.notnull(df['actual_delivery_time'])]\n",
    "    #df['created_at_datetime'] = df['created_at'].astype(\"datetime64[s]\")\n",
    "    #df['actual_delivery_time_datetime'] = df['actual_delivery_time'].astype(\"datetime64[s]\")\n",
    "    df['duration'] = df['actual_delivery_time'].astype(\"datetime64[s]\") - df['created_at'].astype(\"datetime64[s]\")\n",
    "    df['duration'] = df['duration'] / np.timedelta64(1, 's')\n",
    "    return df"
   ]
  },
  {
   "cell_type": "markdown",
   "metadata": {
    "collapsed": true
   },
   "source": [
    "### Create features based on order creation time\n",
    "- create created_at_year, created_at_month, created_at_day, created_at_date, created_at_dayOfWeek, \n",
    "- created_at_time, created_at_hour, created_at_minute, created_at_second, created_at_isWeekend,\n",
    "- created_at_isHoliday"
   ]
  },
  {
   "cell_type": "code",
   "execution_count": 8,
   "metadata": {
    "collapsed": true
   },
   "outputs": [],
   "source": [
    "def create_time_feature(df):       \n",
    "    df['created_at_datetime'] = df['created_at'].astype(\"datetime64[s]\")\n",
    "    df['created_at_year'], df['created_at_month'], df['created_at_day'], df['created_at_date'], df['created_at_dayOfWeek'], df['created_at_time'], df['created_at_hour'], df['created_at_minute'], df['created_at_second'] = df['created_at_datetime'].dt.year, df['created_at_datetime'].dt.month, df['created_at_datetime'].dt.day, df['created_at_datetime'].dt.date, df['created_at_datetime'].dt.dayofweek, df['created_at_datetime'].dt.time, df['created_at_datetime'].dt.hour, df['created_at_datetime'].dt.minute, df['created_at_datetime'].dt.second\n",
    "    df.loc[df['created_at_dayOfWeek'].isin([5, 6]), 'created_at_isWeekend'] = 1\n",
    "    df.loc[df['created_at_dayOfWeek'].isin([0, 1, 2, 3, 4]), 'created_at_isWeekend'] = 0\n",
    "    cal = calendar()\n",
    "    holidays = cal.holidays(start=df['created_at_date'].min(), end=df['created_at_date'].max())\n",
    "    df['created_at_isHoliday'] = np.where(df.created_at_datetime.dt.normalize().isin(holidays), 1, 0)\n",
    "    return df"
   ]
  },
  {
   "cell_type": "markdown",
   "metadata": {},
   "source": [
    "### Cap some numerical featuress, fill missing values, re-bin categorical features"
   ]
  },
  {
   "cell_type": "code",
   "execution_count": 9,
   "metadata": {
    "collapsed": true
   },
   "outputs": [],
   "source": [
    "def process_continuous_features(df):\n",
    "    \n",
    "    def bin_num(x, a=251, b=446):\n",
    "        if x == a:\n",
    "             return 'fast'\n",
    "        elif x == b:\n",
    "             return 'slow'\n",
    "        else:\n",
    "            return 'other'\n",
    "    \n",
    "    df['total_items'][(df['total_items'] > 20)] = 20\n",
    "    df['subtotal'][df['subtotal'] > 12000] = 12000\n",
    "    df['num_distinct_items'][df['num_distinct_items'] > 16] = 16\n",
    "    df['min_item_price'][(df['min_item_price'] < 0)] = 0\n",
    "    df['min_item_price'][(df['min_item_price'] > 5000)] = 5000\n",
    "\n",
    "    df['max_item_price'][(df['max_item_price'] < 0)] = 0\n",
    "    df['max_item_price'][(df['max_item_price'] > 5000)] = 5000\n",
    "\n",
    "    df['total_onshift_dashers'][df['total_onshift_dashers'] < 0] = 0\n",
    "    df['total_onshift_dashers'] = df['total_onshift_dashers'].fillna(int(df['total_onshift_dashers'].mean()))\n",
    "    \n",
    "    df['total_busy_dashers'][df['total_busy_dashers'] < 0] = 0\n",
    "    df['total_busy_dashers'] = df['total_busy_dashers'].fillna(int(df['total_busy_dashers'].mean()))\n",
    "    \n",
    "    df['total_outstanding_orders'][df['total_outstanding_orders'] < 0] = 0\n",
    "    df['total_outstanding_orders'] = df['total_outstanding_orders'].fillna(int(df['total_outstanding_orders'].mean()))\n",
    "    \n",
    "    df['estimated_order_place_duration_rebinned'] =  df['estimated_order_place_duration'].apply(bin_num)\n",
    "    df['estimated_store_to_consumer_driving_duration'] = df['estimated_store_to_consumer_driving_duration'].fillna(int(df['estimated_store_to_consumer_driving_duration'].mean()))\n",
    "    return df"
   ]
  },
  {
   "cell_type": "markdown",
   "metadata": {},
   "source": [
    "### High Cardinality: store_id, calculate the number of orders for each store_id, then bucket it to cat features"
   ]
  },
  {
   "cell_type": "code",
   "execution_count": 10,
   "metadata": {
    "collapsed": true
   },
   "outputs": [],
   "source": [
    "def make_store_id_cont(df):\n",
    "    store_counts_df = pd.DataFrame(df['store_id'].value_counts().reset_index().rename(columns={'index': 'store_id', 0: 'store_id_count'}))\n",
    "    store_counts_df.columns = ['store_id', 'store_id_count']\n",
    "    store_counts_df = store_counts_df.sort_values(by='store_id', ascending=True)\n",
    "    df = pd.merge(df, store_counts_df, on='store_id', how='left')\n",
    "    df['store_id_rebinned'] = df['store_id']\n",
    "    df['store_id_rebinned'][(df['store_id_count'] <500) & (df['store_id_count'] >= 400)] = '[400, 500)'\n",
    "    df['store_id_rebinned'][(df['store_id_count'] <400) & (df['store_id_count'] >= 200)] = '[200, 400)'\n",
    "    df['store_id_rebinned'][(df['store_id_count'] <200) & (df['store_id_count'] >= 50)] = '[50, 200)'\n",
    "    df['store_id_rebinned'][df['store_id_count'] <50] = '[0, 50)'\n",
    "    return df,store_counts_df"
   ]
  },
  {
   "cell_type": "markdown",
   "metadata": {},
   "source": [
    "### High Cardinality: store_category, calculate the number of orders for each store_category, then bucket it to cat features"
   ]
  },
  {
   "cell_type": "code",
   "execution_count": 11,
   "metadata": {
    "collapsed": true
   },
   "outputs": [],
   "source": [
    "def make_store_category_cont(df):\n",
    "    df['store_primary_category'][df['store_primary_category'].isnull()] = 'Unknown'\n",
    "    \n",
    "    store_primary_category_counts_df = pd.DataFrame(df['store_primary_category'].value_counts().reset_index().rename(columns={'index': 'store_primary_category', 0: 'store_primary_category_count'}))\n",
    "    store_primary_category_counts_df.columns = ['store_primary_category', 'store_primary_category_count']\n",
    "    df = pd.merge(df, store_primary_category_counts_df, on='store_primary_category', how='left')\n",
    "    \n",
    "    df['store_primary_category_rebinned'] = df['store_primary_category']\n",
    "    df['store_primary_category_rebinned'][df['store_primary_category_rebinned'].isnull()] = 'Unknown'\n",
    "    df['store_primary_category_rebinned'][(df['store_primary_category_count'] <3000) & (df['store_primary_category_count'] >= 2000)] = '[2000, 3000)'\n",
    "    df['store_primary_category_rebinned'][(df['store_primary_category_count'] <2000) & (df['store_primary_category_count'] >= 1000)] = '[1000, 2000)'\n",
    "    df['store_primary_category_rebinned'][(df['store_primary_category_count'] <1000) & (df['store_primary_category_count'] >= 200)] = '[200, 1000)'\n",
    "    df['store_primary_category_rebinned'][df['store_primary_category_count'] <200] = '[0, 200)'\n",
    "    return df, store_primary_category_counts_df"
   ]
  },
  {
   "cell_type": "markdown",
   "metadata": {},
   "source": [
    "### Impute market_id mising values"
   ]
  },
  {
   "cell_type": "code",
   "execution_count": 12,
   "metadata": {
    "collapsed": true
   },
   "outputs": [],
   "source": [
    "def impute_market_id(df):\n",
    "    df['market_id'][df['market_id'].isnull()] = 0\n",
    "    return df"
   ]
  },
  {
   "cell_type": "markdown",
   "metadata": {},
   "source": [
    "### Impute order_protocol mising values and re-bin small buckets"
   ]
  },
  {
   "cell_type": "code",
   "execution_count": 13,
   "metadata": {
    "collapsed": true
   },
   "outputs": [],
   "source": [
    "def impute_order_protocol(df):\n",
    "    df['order_protocol'][df['order_protocol'].isnull()] = 0\n",
    "    df['order_protocol'].loc[df['order_protocol'] == 6] = 0\n",
    "    df['order_protocol'].loc[df['order_protocol'] == 7] = 0\n",
    "    return df"
   ]
  },
  {
   "cell_type": "markdown",
   "metadata": {},
   "source": [
    "### Create Training/Testing set, cat/numerica features"
   ]
  },
  {
   "cell_type": "code",
   "execution_count": 14,
   "metadata": {
    "collapsed": true
   },
   "outputs": [],
   "source": [
    "def select_features(df,TrainOrScore):\n",
    "    if TrainOrScore == 'Train':\n",
    "        TrainFeatures = df[['duration', 'market_id', 'store_id_rebinned', 'store_primary_category_rebinned',\n",
    "                            'order_protocol',  'total_items', 'subtotal', 'num_distinct_items', 'min_item_price',\n",
    "                            'max_item_price','total_onshift_dashers', 'total_busy_dashers', 'total_outstanding_orders',\n",
    "                            'estimated_store_to_consumer_driving_duration', 'created_at_month', 'created_at_dayOfWeek',\n",
    "                            'created_at_hour', 'created_at_isWeekend', 'created_at_isHoliday',\n",
    "                            'estimated_order_place_duration_rebinned']]\n",
    "    else:\n",
    "        TrainFeatures = df[['market_id', 'store_id_rebinned', 'store_primary_category_rebinned',\n",
    "                    'order_protocol',  'total_items', 'subtotal', 'num_distinct_items', 'min_item_price',\n",
    "                    'max_item_price','total_onshift_dashers', 'total_busy_dashers', 'total_outstanding_orders',\n",
    "                    'estimated_store_to_consumer_driving_duration', 'created_at_month', 'created_at_dayOfWeek',\n",
    "                    'created_at_hour', 'created_at_isWeekend', 'created_at_isHoliday',\n",
    "                    'estimated_order_place_duration_rebinned']]\n",
    "        \n",
    "    TrainFeatures[['market_id', 'store_id_rebinned', 'store_primary_category_rebinned', 'order_protocol', 'created_at_month',\n",
    "                   'created_at_dayOfWeek', 'created_at_hour',  'created_at_isWeekend', 'created_at_isHoliday', \n",
    "                   'estimated_order_place_duration_rebinned']] = TrainFeatures[['market_id', 'store_id_rebinned', \n",
    "                                                                               'store_primary_category_rebinned', \n",
    "                                                                                'order_protocol',\n",
    "                                                                                'created_at_month', 'created_at_dayOfWeek',\n",
    "                                                                                'created_at_hour',  'created_at_isWeekend',\n",
    "                                                                                'created_at_isHoliday', 'estimated_order_place_duration_rebinned']].astype(object)\n",
    "    NumFeatures = ['total_items', 'subtotal', 'num_distinct_items', 'min_item_price',  'max_item_price',\n",
    "                   'total_onshift_dashers', 'total_busy_dashers', 'total_outstanding_orders',\n",
    "                   'estimated_store_to_consumer_driving_duration']\n",
    "    CatFeatures = ['market_id', 'store_id_rebinned', 'store_primary_category_rebinned',  'order_protocol',\n",
    "                   'created_at_month', 'created_at_dayOfWeek', 'created_at_hour', 'created_at_isWeekend',\n",
    "                   'created_at_isHoliday', 'estimated_order_place_duration_rebinned']\n",
    "    return TrainFeatures, NumFeatures, CatFeatures"
   ]
  },
  {
   "cell_type": "markdown",
   "metadata": {},
   "source": [
    "### OneHot encoding for Categorical feature, scale numeric features"
   ]
  },
  {
   "cell_type": "code",
   "execution_count": 15,
   "metadata": {
    "collapsed": true
   },
   "outputs": [],
   "source": [
    "def scale_oneHot_X(input_x, features_num, features_cat):\n",
    "    # scale numerical features\n",
    "    input_x_scale = scale(input_x[features_num])\n",
    "    \n",
    "    # OneHot cat features\n",
    "    le=LabelEncoder()\n",
    "    enc = OneHotEncoder()\n",
    "    Cat_Train = input_x[features_cat].apply(le.fit_transform)\n",
    "    enc.fit(Cat_Train)\n",
    "    input_x_oneHot = enc.transform(Cat_Train).toarray()\n",
    "    \n",
    "    output_x = pd.concat([pd.DataFrame(input_x_scale), pd.DataFrame(input_x_oneHot)], axis=1)\n",
    "    output_x.columns = [i for i in range(output_x.shape[1])]\n",
    "    return output_x "
   ]
  },
  {
   "cell_type": "markdown",
   "metadata": {},
   "source": [
    "## Models"
   ]
  },
  {
   "cell_type": "markdown",
   "metadata": {},
   "source": [
    "### Linear Models"
   ]
  },
  {
   "cell_type": "code",
   "execution_count": 16,
   "metadata": {
    "collapsed": true
   },
   "outputs": [],
   "source": [
    "#Regular Linear Model\n",
    "def lin_model(X_train, Y_train, X_test, Y_test):\n",
    "    lm = linear_model.LinearRegression()\n",
    "    lm.fit(X_train, Y_train)\n",
    "    lm_predict_train = lm.predict(X_train)\n",
    "    lm_predict_test = lm.predict(X_test)\n",
    "    print(\"Root mean squared error for train: %.2f\" % math.sqrt(mean_squared_error(Y_train, lm_predict_train)))\n",
    "    print(\"Root mean squared error for test: %.2f\" % math.sqrt(mean_squared_error(Y_test, lm_predict_test)))\n",
    "    return lm"
   ]
  },
  {
   "cell_type": "markdown",
   "metadata": {},
   "source": [
    "### Lasso Regression"
   ]
  },
  {
   "cell_type": "code",
   "execution_count": 17,
   "metadata": {
    "collapsed": true
   },
   "outputs": [],
   "source": [
    "# Lasso\n",
    "def lin_model_lasso(X_train, Y_train, X_test, Y_test, alpha):\n",
    "    lm_lasso = linear_model.Lasso(alpha = alpha)\n",
    "    lm_lasso.fit(X_train, Y_train)\n",
    "    lm_lasso_predict_train = lm_lasso.predict(X_train)\n",
    "    lm_lasso_predict_test = lm_lasso.predict(X_test)\n",
    "    print(\"Root mean squared error for train: %.2f\" % math.sqrt(mean_squared_error(Y_train, lm_lasso_predict_train)))\n",
    "    print(\"Root mean squared error for test: %.2f\" % math.sqrt(mean_squared_error(Y_test, lm_lasso_predict_test)))\n",
    "    return lm_lasso, math.sqrt(mean_squared_error(Y_train, lm_lasso_predict_train)), math.sqrt(mean_squared_error(Y_test, lm_lasso_predict_test))"
   ]
  },
  {
   "cell_type": "markdown",
   "metadata": {},
   "source": [
    "### Ridge Regression"
   ]
  },
  {
   "cell_type": "code",
   "execution_count": 18,
   "metadata": {
    "collapsed": true
   },
   "outputs": [],
   "source": [
    "# Ridge\n",
    "def lin_model_ridge(X_train, Y_train, X_test, Y_test, alpha):\n",
    "    lm_ridge = Ridge(alpha = alpha)\n",
    "    lm_ridge.fit(X_train, Y_train)\n",
    "    lm_ridge_predict_train = lm_ridge.predict(X_train)\n",
    "    lm_ridge_predict_test = lm_ridge.predict(X_test)\n",
    "    print(\"Root mean squared error for train: %.2f\" % math.sqrt(mean_squared_error(Y_train, lm_ridge_predict_train)))\n",
    "    print(\"Root mean squared error for test: %.2f\" % math.sqrt(mean_squared_error(Y_test, lm_ridge_predict_test)))\n",
    "    return lm_ridge, math.sqrt(mean_squared_error(Y_train, lm_ridge_predict_train)), math.sqrt(mean_squared_error(Y_test, lm_ridge_predict_test))"
   ]
  },
  {
   "cell_type": "markdown",
   "metadata": {},
   "source": [
    "### Random Forest "
   ]
  },
  {
   "cell_type": "code",
   "execution_count": 19,
   "metadata": {
    "collapsed": true
   },
   "outputs": [],
   "source": [
    "def rf_model(X_train, Y_train, X_test, Y_test):\n",
    "    rf = RandomForestRegressor(max_depth=3, random_state=0)\n",
    "    rf.fit(X_train, Y_train)\n",
    "    rf_predict_train = rf.predict(X_train)\n",
    "    rf_predict_test = rf.predict(X_test)\n",
    "    print(\"Root mean squared error for train: %.2f\" % math.sqrt(mean_squared_error(Y_train, rf_predict_train)))\n",
    "    print(\"Root mean squared error for test: %.2f\" % math.sqrt(mean_squared_error(Y_test, rf_predict_test)))\n",
    "    return rf"
   ]
  },
  {
   "cell_type": "markdown",
   "metadata": {},
   "source": [
    "### Grid Search for Random Forest"
   ]
  },
  {
   "cell_type": "code",
   "execution_count": 20,
   "metadata": {
    "collapsed": true
   },
   "outputs": [],
   "source": [
    "def rf_model_grid_search(X_train, Y_train):  \n",
    "    param_grid = {\"n_estimators\": [500, 1000],\n",
    "    \"max_depth\": [3, 5],\n",
    "    \"max_features\": [10, 20],\n",
    "    \"min_samples_split\": [20, 50],\n",
    "    \"min_samples_leaf\": [10, 20],\n",
    "    \"bootstrap\": [True, False]}\n",
    "    \n",
    "    rf = RandomForestRegressor(random_state=0)\n",
    "    grid = GridSearchCV(estimator=rf, param_grid=param_grid, n_jobs=-1)\n",
    "    grid.fit(X_train, Y_train)\n",
    "    print(grid.best_score_)\n",
    "    print(grid.best_params_)\n",
    "    return grid.best_params_"
   ]
  },
  {
   "cell_type": "markdown",
   "metadata": {},
   "source": [
    "### Fit Random Forest using the best parameter from grid search"
   ]
  },
  {
   "cell_type": "code",
   "execution_count": 21,
   "metadata": {
    "collapsed": true
   },
   "outputs": [],
   "source": [
    "def rf_with_best_parameters(X_train, Y_train, X_test, Y_test, best_param):\n",
    "    rf = RandomForestRegressor(bootstrap=best_param['bootstrap'],max_depth=best_param['max_depth'],\n",
    "                               max_features=best_param['max_features'],min_samples_leaf=best_param['min_samples_leaf'],\n",
    "                               min_samples_split=best_param['min_samples_split'],n_estimators=best_param['n_estimators'],\n",
    "                               random_state=0)\n",
    "    rf.fit(X_train, Y_train)\n",
    "    rf_predict_train = rf.predict(X_train)\n",
    "    rf_predict_test = rf.predict(X_test)\n",
    "    print(\"Root mean squared error for train: %.2f\" % math.sqrt(mean_squared_error(Y_train, rf_predict_train)))\n",
    "    print(\"Root mean squared error for test: %.2f\" % math.sqrt(mean_squared_error(Y_test, rf_predict_test)))\n",
    "    return rf"
   ]
  },
  {
   "cell_type": "markdown",
   "metadata": {},
   "source": [
    "### GBM "
   ]
  },
  {
   "cell_type": "code",
   "execution_count": 22,
   "metadata": {
    "collapsed": true
   },
   "outputs": [],
   "source": [
    "def gbm_model(X_train, Y_train, X_test, Y_test):\n",
    "    params = {'n_estimators': 500, 'max_depth': 4, 'min_samples_split': 2,\n",
    "              'learning_rate': 0.01, 'loss': 'ls'}\n",
    "    gbm = ensemble.GradientBoostingRegressor(**params)\n",
    "    gbm.fit(X_train, Y_train)\n",
    "    gbm_predict_train = gbm.predict(X_train)\n",
    "    gbm_predict_test = gbm.predict(X_test)\n",
    "    print(\"Root mean squared error for train: %.2f\" % math.sqrt(mean_squared_error(Y_train, gbm_predict_train)))\n",
    "    print(\"Root mean squared error for test: %.2f\" % math.sqrt(mean_squared_error(Y_test, gbm_predict_test)))\n",
    "    return gbm"
   ]
  },
  {
   "cell_type": "markdown",
   "metadata": {},
   "source": [
    "### Grid search for GBM"
   ]
  },
  {
   "cell_type": "code",
   "execution_count": 23,
   "metadata": {
    "collapsed": true
   },
   "outputs": [],
   "source": [
    "def gbm_model_grid_search(X_train, Y_train):\n",
    "    param_grid = {'max_depth': [3, 5], 'learning_rate': [0.01, 0.1],\n",
    "              'min_samples_split': [10, 20]}\n",
    "    gbm = ensemble.GradientBoostingRegressor(n_estimators=500)\n",
    "    grid = GridSearchCV(estimator=gbm, param_grid=param_grid, n_jobs=-1)\n",
    "    grid.fit(X_train, Y_train)\n",
    "    print(grid.best_score_)\n",
    "    print(grid.best_params_)\n",
    "    return grid.best_params_"
   ]
  },
  {
   "cell_type": "markdown",
   "metadata": {},
   "source": [
    "### Fit GBM using the best parameter from grid search"
   ]
  },
  {
   "cell_type": "code",
   "execution_count": 24,
   "metadata": {
    "collapsed": true
   },
   "outputs": [],
   "source": [
    "def gbm_with_best_parameters(X_train, Y_train, X_test, Y_test, best_param):\n",
    "    gbm = ensemble.GradientBoostingRegressor(learning_rate=best_param['learning_rate'],max_depth=best_param['max_depth'],\n",
    "                                             min_samples_split=best_param['min_samples_split'])\n",
    "    gbm.fit(X_train, Y_train)\n",
    "    gbm_predict_train = gbm.predict(X_train)\n",
    "    gbm_predict_test = gbm.predict(X_test)\n",
    "    print(\"Root mean squared error for train: %.2f\" % math.sqrt(mean_squared_error(Y_train, gbm_predict_train)))\n",
    "    print(\"Root mean squared error for test: %.2f\" % math.sqrt(mean_squared_error(Y_test, gbm_predict_test)))\n",
    "    return gbm"
   ]
  },
  {
   "cell_type": "markdown",
   "metadata": {},
   "source": [
    "### Refit GBM on whole training set using the best parameter from grid search"
   ]
  },
  {
   "cell_type": "code",
   "execution_count": 25,
   "metadata": {
    "collapsed": true
   },
   "outputs": [],
   "source": [
    "def gbm_with_best_parameters_whole_train_set(X_train, Y_train, best_param):\n",
    "    gbm = ensemble.GradientBoostingRegressor(learning_rate=best_param['learning_rate'],max_depth=best_param['max_depth'],\n",
    "                                             min_samples_split=best_param['min_samples_split'])\n",
    "    gbm.fit(X_train, Y_train)\n",
    "    gbm_predict_train = gbm.predict(X_train)\n",
    "    print(\"Root mean squared error for train: %.2f\" % math.sqrt(mean_squared_error(Y_train, gbm_predict_train)))\n",
    "    return gbm"
   ]
  },
  {
   "cell_type": "markdown",
   "metadata": {},
   "source": [
    "### Make predictions using saved pickle model and data"
   ]
  },
  {
   "cell_type": "code",
   "execution_count": 26,
   "metadata": {
    "collapsed": true
   },
   "outputs": [],
   "source": [
    "def make_prediction(model, data):\n",
    "    model_loaded = joblib.load(model)\n",
    "    pred = model_loaded.predict(data)\n",
    "    return pred"
   ]
  },
  {
   "cell_type": "markdown",
   "metadata": {},
   "source": [
    "## Read in Train"
   ]
  },
  {
   "cell_type": "code",
   "execution_count": 27,
   "metadata": {
    "collapsed": true
   },
   "outputs": [],
   "source": [
    "Train = pd.read_csv(r'D:\\Learn\\DoorDash\\historical_data.csv')\n",
    "\n",
    "a0 = create_target(Train)\n",
    "a1 = create_time_feature(a0)\n",
    "a = process_continuous_features(a1)\n",
    "b = impute_market_id(a)\n",
    "c = impute_order_protocol(b)\n",
    "\n",
    "d = make_store_category_cont(c)[0]\n",
    "e = make_store_id_cont(d)[0]\n",
    "\n",
    "store_category_count_table = make_store_category_cont(c)[1]\n",
    "make_store_id_cont_table = make_store_id_cont(d)[1]\n",
    "\n",
    "# Save the look up table of store_category and store_id for later scoring use \n",
    "store_category_count_table.to_csv(r'D:\\Learn\\DoorDash\\store_category_count_table.csv', index=False)\n",
    "make_store_id_cont_table.to_csv(r'D:\\Learn\\DoorDash\\make_store_id_cont_table.csv', index=False)\n",
    "\n",
    "Train_processed = select_features(e, 'Train')[0]"
   ]
  },
  {
   "cell_type": "markdown",
   "metadata": {},
   "source": [
    "### Cap target variable to 2 hours, create target variable and training set for sklearn"
   ]
  },
  {
   "cell_type": "code",
   "execution_count": 28,
   "metadata": {
    "collapsed": true
   },
   "outputs": [],
   "source": [
    "Train_processed['duration'][Train_processed['duration'] > 3600] = 3600\n",
    "target_in_train = Train_processed['duration']\n",
    "del Train_processed['duration']"
   ]
  },
  {
   "cell_type": "code",
   "execution_count": 29,
   "metadata": {},
   "outputs": [
    {
     "data": {
      "text/plain": [
       "(197421,)"
      ]
     },
     "execution_count": 29,
     "metadata": {},
     "output_type": "execute_result"
    }
   ],
   "source": [
    "target_in_train.shape"
   ]
  },
  {
   "cell_type": "code",
   "execution_count": 30,
   "metadata": {},
   "outputs": [
    {
     "data": {
      "text/plain": [
       "(197421, 19)"
      ]
     },
     "execution_count": 30,
     "metadata": {},
     "output_type": "execute_result"
    }
   ],
   "source": [
    "Train_processed.shape"
   ]
  },
  {
   "cell_type": "markdown",
   "metadata": {},
   "source": [
    "### Create numeric features and cat features"
   ]
  },
  {
   "cell_type": "code",
   "execution_count": 31,
   "metadata": {},
   "outputs": [],
   "source": [
    "NumFeatures = select_features(e, 'Train')[1]\n",
    "CatFeatures = select_features(e, 'Train')[2]"
   ]
  },
  {
   "cell_type": "code",
   "execution_count": 32,
   "metadata": {},
   "outputs": [
    {
     "name": "stdout",
     "output_type": "stream",
     "text": [
      "NumFeatures are: ['total_items', 'subtotal', 'num_distinct_items', 'min_item_price', 'max_item_price', 'total_onshift_dashers', 'total_busy_dashers', 'total_outstanding_orders', 'estimated_store_to_consumer_driving_duration']\n",
      "CatFeatures are: ['market_id', 'store_id_rebinned', 'store_primary_category_rebinned', 'order_protocol', 'created_at_month', 'created_at_dayOfWeek', 'created_at_hour', 'created_at_isWeekend', 'created_at_isHoliday', 'estimated_order_place_duration_rebinned']\n"
     ]
    }
   ],
   "source": [
    "print(\"NumFeatures are: {}\".format(NumFeatures))\n",
    "print(\"CatFeatures are: {}\".format(CatFeatures))"
   ]
  },
  {
   "cell_type": "markdown",
   "metadata": {},
   "source": [
    "### OneHot encode cat features and scale numeric features"
   ]
  },
  {
   "cell_type": "code",
   "execution_count": 33,
   "metadata": {
    "collapsed": true
   },
   "outputs": [],
   "source": [
    "Train_ready_encoded = scale_oneHot_X(Train_processed, NumFeatures, CatFeatures)"
   ]
  },
  {
   "cell_type": "code",
   "execution_count": 34,
   "metadata": {},
   "outputs": [
    {
     "data": {
      "text/plain": [
       "Int64Index([  0,   1,   2,   3,   4,   5,   6,   7,   8,   9,\n",
       "            ...\n",
       "             91,  92,  93,  94,  95,  96,  97,  98,  99, 100],\n",
       "           dtype='int64', length=101)"
      ]
     },
     "execution_count": 34,
     "metadata": {},
     "output_type": "execute_result"
    }
   ],
   "source": [
    "Train_ready_encoded.columns"
   ]
  },
  {
   "cell_type": "markdown",
   "metadata": {},
   "source": [
    "### Split training and testing data from the whole training set"
   ]
  },
  {
   "cell_type": "code",
   "execution_count": 28,
   "metadata": {
    "collapsed": true
   },
   "outputs": [],
   "source": [
    "X_train, X_test, Y_train, Y_test= train_test_split(Train_ready_encoded, target_in_train, test_size=0.4, random_state=17)"
   ]
  },
  {
   "cell_type": "code",
   "execution_count": 29,
   "metadata": {},
   "outputs": [
    {
     "data": {
      "text/html": [
       "<div>\n",
       "<style>\n",
       "    .dataframe thead tr:only-child th {\n",
       "        text-align: right;\n",
       "    }\n",
       "\n",
       "    .dataframe thead th {\n",
       "        text-align: left;\n",
       "    }\n",
       "\n",
       "    .dataframe tbody tr th {\n",
       "        vertical-align: top;\n",
       "    }\n",
       "</style>\n",
       "<table border=\"1\" class=\"dataframe\">\n",
       "  <thead>\n",
       "    <tr style=\"text-align: right;\">\n",
       "      <th></th>\n",
       "      <th>0</th>\n",
       "      <th>1</th>\n",
       "      <th>2</th>\n",
       "      <th>3</th>\n",
       "      <th>4</th>\n",
       "      <th>5</th>\n",
       "      <th>6</th>\n",
       "      <th>7</th>\n",
       "      <th>8</th>\n",
       "      <th>9</th>\n",
       "      <th>...</th>\n",
       "      <th>91</th>\n",
       "      <th>92</th>\n",
       "      <th>93</th>\n",
       "      <th>94</th>\n",
       "      <th>95</th>\n",
       "      <th>96</th>\n",
       "      <th>97</th>\n",
       "      <th>98</th>\n",
       "      <th>99</th>\n",
       "      <th>100</th>\n",
       "    </tr>\n",
       "  </thead>\n",
       "  <tbody>\n",
       "    <tr>\n",
       "      <th>15870</th>\n",
       "      <td>0.347130</td>\n",
       "      <td>2.559182</td>\n",
       "      <td>0.815810</td>\n",
       "      <td>0.124688</td>\n",
       "      <td>4.589361</td>\n",
       "      <td>0.370669</td>\n",
       "      <td>0.432625</td>\n",
       "      <td>0.237004</td>\n",
       "      <td>1.390680</td>\n",
       "      <td>0.0</td>\n",
       "      <td>...</td>\n",
       "      <td>0.0</td>\n",
       "      <td>0.0</td>\n",
       "      <td>0.0</td>\n",
       "      <td>1.0</td>\n",
       "      <td>0.0</td>\n",
       "      <td>1.0</td>\n",
       "      <td>0.0</td>\n",
       "      <td>0.0</td>\n",
       "      <td>0.0</td>\n",
       "      <td>1.0</td>\n",
       "    </tr>\n",
       "    <tr>\n",
       "      <th>581</th>\n",
       "      <td>-0.500001</td>\n",
       "      <td>-0.487392</td>\n",
       "      <td>-0.411608</td>\n",
       "      <td>-0.795906</td>\n",
       "      <td>0.668467</td>\n",
       "      <td>-0.234041</td>\n",
       "      <td>-0.054497</td>\n",
       "      <td>-0.417191</td>\n",
       "      <td>-0.421600</td>\n",
       "      <td>0.0</td>\n",
       "      <td>...</td>\n",
       "      <td>0.0</td>\n",
       "      <td>0.0</td>\n",
       "      <td>0.0</td>\n",
       "      <td>1.0</td>\n",
       "      <td>0.0</td>\n",
       "      <td>1.0</td>\n",
       "      <td>0.0</td>\n",
       "      <td>1.0</td>\n",
       "      <td>0.0</td>\n",
       "      <td>0.0</td>\n",
       "    </tr>\n",
       "    <tr>\n",
       "      <th>154028</th>\n",
       "      <td>-0.076435</td>\n",
       "      <td>-0.328271</td>\n",
       "      <td>-0.411608</td>\n",
       "      <td>-1.059487</td>\n",
       "      <td>-0.609927</td>\n",
       "      <td>-0.929456</td>\n",
       "      <td>-0.898842</td>\n",
       "      <td>-0.734376</td>\n",
       "      <td>1.550453</td>\n",
       "      <td>0.0</td>\n",
       "      <td>...</td>\n",
       "      <td>0.0</td>\n",
       "      <td>0.0</td>\n",
       "      <td>0.0</td>\n",
       "      <td>1.0</td>\n",
       "      <td>0.0</td>\n",
       "      <td>1.0</td>\n",
       "      <td>0.0</td>\n",
       "      <td>1.0</td>\n",
       "      <td>0.0</td>\n",
       "      <td>0.0</td>\n",
       "    </tr>\n",
       "    <tr>\n",
       "      <th>174814</th>\n",
       "      <td>3.312087</td>\n",
       "      <td>2.146135</td>\n",
       "      <td>3.884355</td>\n",
       "      <td>-0.941263</td>\n",
       "      <td>-0.845181</td>\n",
       "      <td>-1.262046</td>\n",
       "      <td>-1.256065</td>\n",
       "      <td>-1.051561</td>\n",
       "      <td>-0.932873</td>\n",
       "      <td>0.0</td>\n",
       "      <td>...</td>\n",
       "      <td>0.0</td>\n",
       "      <td>0.0</td>\n",
       "      <td>0.0</td>\n",
       "      <td>0.0</td>\n",
       "      <td>1.0</td>\n",
       "      <td>1.0</td>\n",
       "      <td>0.0</td>\n",
       "      <td>0.0</td>\n",
       "      <td>0.0</td>\n",
       "      <td>1.0</td>\n",
       "    </tr>\n",
       "    <tr>\n",
       "      <th>163203</th>\n",
       "      <td>0.770695</td>\n",
       "      <td>0.884814</td>\n",
       "      <td>1.429519</td>\n",
       "      <td>-0.214478</td>\n",
       "      <td>0.714059</td>\n",
       "      <td>0.793965</td>\n",
       "      <td>0.919748</td>\n",
       "      <td>0.752430</td>\n",
       "      <td>-1.412192</td>\n",
       "      <td>0.0</td>\n",
       "      <td>...</td>\n",
       "      <td>0.0</td>\n",
       "      <td>0.0</td>\n",
       "      <td>0.0</td>\n",
       "      <td>0.0</td>\n",
       "      <td>1.0</td>\n",
       "      <td>1.0</td>\n",
       "      <td>0.0</td>\n",
       "      <td>0.0</td>\n",
       "      <td>0.0</td>\n",
       "      <td>1.0</td>\n",
       "    </tr>\n",
       "  </tbody>\n",
       "</table>\n",
       "<p>5 rows × 101 columns</p>\n",
       "</div>"
      ],
      "text/plain": [
       "             0         1         2         3         4         5         6    \\\n",
       "15870   0.347130  2.559182  0.815810  0.124688  4.589361  0.370669  0.432625   \n",
       "581    -0.500001 -0.487392 -0.411608 -0.795906  0.668467 -0.234041 -0.054497   \n",
       "154028 -0.076435 -0.328271 -0.411608 -1.059487 -0.609927 -0.929456 -0.898842   \n",
       "174814  3.312087  2.146135  3.884355 -0.941263 -0.845181 -1.262046 -1.256065   \n",
       "163203  0.770695  0.884814  1.429519 -0.214478  0.714059  0.793965  0.919748   \n",
       "\n",
       "             7         8    9   ...   91   92   93   94   95   96   97   98   \\\n",
       "15870   0.237004  1.390680  0.0 ...   0.0  0.0  0.0  1.0  0.0  1.0  0.0  0.0   \n",
       "581    -0.417191 -0.421600  0.0 ...   0.0  0.0  0.0  1.0  0.0  1.0  0.0  1.0   \n",
       "154028 -0.734376  1.550453  0.0 ...   0.0  0.0  0.0  1.0  0.0  1.0  0.0  1.0   \n",
       "174814 -1.051561 -0.932873  0.0 ...   0.0  0.0  0.0  0.0  1.0  1.0  0.0  0.0   \n",
       "163203  0.752430 -1.412192  0.0 ...   0.0  0.0  0.0  0.0  1.0  1.0  0.0  0.0   \n",
       "\n",
       "        99   100  \n",
       "15870   0.0  1.0  \n",
       "581     0.0  0.0  \n",
       "154028  0.0  0.0  \n",
       "174814  0.0  1.0  \n",
       "163203  0.0  1.0  \n",
       "\n",
       "[5 rows x 101 columns]"
      ]
     },
     "execution_count": 29,
     "metadata": {},
     "output_type": "execute_result"
    }
   ],
   "source": [
    "X_train.head()"
   ]
  },
  {
   "cell_type": "markdown",
   "metadata": {},
   "source": [
    "## Fit different models defined above"
   ]
  },
  {
   "cell_type": "markdown",
   "metadata": {},
   "source": [
    "### Linear model"
   ]
  },
  {
   "cell_type": "code",
   "execution_count": 30,
   "metadata": {},
   "outputs": [
    {
     "name": "stdout",
     "output_type": "stream",
     "text": [
      "Root mean squared error for train: 591.42\n",
      "Root mean squared error for test: 589.96\n"
     ]
    }
   ],
   "source": [
    "from sklearn import linear_model\n",
    "linear_model = lin_model(X_train, Y_train, X_test, Y_test)"
   ]
  },
  {
   "cell_type": "markdown",
   "metadata": {},
   "source": [
    "### Lasso Regression: find the best alpha"
   ]
  },
  {
   "cell_type": "code",
   "execution_count": 34,
   "metadata": {},
   "outputs": [
    {
     "name": "stdout",
     "output_type": "stream",
     "text": [
      "Root mean squared error for train: 591.42\n",
      "Root mean squared error for test: 589.96\n",
      "Root mean squared error for train: 591.51\n",
      "Root mean squared error for test: 590.10\n",
      "Root mean squared error for train: 591.66\n",
      "Root mean squared error for test: 590.26\n",
      "Root mean squared error for train: 591.89\n",
      "Root mean squared error for test: 590.49\n",
      "Root mean squared error for train: 592.14\n",
      "Root mean squared error for test: 590.76\n",
      "Root mean squared error for train: 592.40\n",
      "Root mean squared error for test: 591.05\n",
      "Root mean squared error for train: 592.68\n",
      "Root mean squared error for test: 591.35\n",
      "Root mean squared error for train: 592.93\n",
      "Root mean squared error for test: 591.61\n",
      "Root mean squared error for train: 593.21\n",
      "Root mean squared error for test: 591.91\n",
      "Root mean squared error for train: 593.46\n",
      "Root mean squared error for test: 592.17\n",
      "Root mean squared error for train: 593.70\n",
      "Root mean squared error for test: 592.42\n",
      "Root mean squared error for train: 593.93\n",
      "Root mean squared error for test: 592.66\n",
      "Root mean squared error for train: 594.11\n",
      "Root mean squared error for test: 592.82\n",
      "Root mean squared error for train: 594.26\n",
      "Root mean squared error for test: 592.95\n",
      "Root mean squared error for train: 594.41\n",
      "Root mean squared error for test: 593.10\n",
      "Root mean squared error for train: 594.56\n",
      "Root mean squared error for test: 593.23\n",
      "Root mean squared error for train: 594.72\n",
      "Root mean squared error for test: 593.37\n",
      "Root mean squared error for train: 594.86\n",
      "Root mean squared error for test: 593.50\n",
      "Root mean squared error for train: 595.00\n",
      "Root mean squared error for test: 593.63\n",
      "Root mean squared error for train: 595.16\n",
      "Root mean squared error for test: 593.77\n",
      "Root mean squared error for train: 595.32\n",
      "Root mean squared error for test: 593.91\n",
      "Root mean squared error for train: 595.47\n",
      "Root mean squared error for test: 594.06\n",
      "Root mean squared error for train: 595.63\n",
      "Root mean squared error for test: 594.20\n",
      "Root mean squared error for train: 595.79\n",
      "Root mean squared error for test: 594.36\n",
      "Root mean squared error for train: 595.95\n",
      "Root mean squared error for test: 594.51\n",
      "Root mean squared error for train: 596.11\n",
      "Root mean squared error for test: 594.67\n",
      "Root mean squared error for train: 596.27\n",
      "Root mean squared error for test: 594.82\n",
      "Root mean squared error for train: 596.42\n",
      "Root mean squared error for test: 594.96\n",
      "Root mean squared error for train: 596.57\n",
      "Root mean squared error for test: 595.10\n",
      "Root mean squared error for train: 596.72\n",
      "Root mean squared error for test: 595.25\n",
      "Root mean squared error for train: 596.88\n",
      "Root mean squared error for test: 595.40\n",
      "Root mean squared error for train: 597.02\n",
      "Root mean squared error for test: 595.53\n",
      "Root mean squared error for train: 597.16\n",
      "Root mean squared error for test: 595.66\n",
      "Root mean squared error for train: 597.29\n",
      "Root mean squared error for test: 595.79\n",
      "Root mean squared error for train: 597.42\n",
      "Root mean squared error for test: 595.92\n",
      "Root mean squared error for train: 597.56\n",
      "Root mean squared error for test: 596.05\n",
      "Root mean squared error for train: 597.70\n",
      "Root mean squared error for test: 596.19\n",
      "Root mean squared error for train: 597.84\n",
      "Root mean squared error for test: 596.33\n",
      "Root mean squared error for train: 597.98\n",
      "Root mean squared error for test: 596.47\n",
      "Root mean squared error for train: 598.12\n",
      "Root mean squared error for test: 596.60\n",
      "Root mean squared error for train: 598.23\n",
      "Root mean squared error for test: 596.71\n",
      "Root mean squared error for train: 598.35\n",
      "Root mean squared error for test: 596.82\n",
      "Root mean squared error for train: 598.48\n",
      "Root mean squared error for test: 596.94\n",
      "Root mean squared error for train: 598.60\n",
      "Root mean squared error for test: 597.06\n",
      "Root mean squared error for train: 598.73\n",
      "Root mean squared error for test: 597.18\n",
      "Root mean squared error for train: 598.86\n",
      "Root mean squared error for test: 597.30\n",
      "Root mean squared error for train: 599.00\n",
      "Root mean squared error for test: 597.43\n",
      "Root mean squared error for train: 599.14\n",
      "Root mean squared error for test: 597.56\n",
      "Root mean squared error for train: 599.28\n",
      "Root mean squared error for test: 597.69\n",
      "Root mean squared error for train: 599.42\n",
      "Root mean squared error for test: 597.83\n",
      "Root mean squared error for train: 599.57\n",
      "Root mean squared error for test: 597.97\n",
      "Root mean squared error for train: 599.72\n",
      "Root mean squared error for test: 598.11\n",
      "Root mean squared error for train: 599.87\n",
      "Root mean squared error for test: 598.26\n",
      "Root mean squared error for train: 600.03\n",
      "Root mean squared error for test: 598.41\n",
      "Root mean squared error for train: 600.19\n",
      "Root mean squared error for test: 598.56\n",
      "Root mean squared error for train: 600.35\n",
      "Root mean squared error for test: 598.71\n",
      "Root mean squared error for train: 600.51\n",
      "Root mean squared error for test: 598.86\n",
      "Root mean squared error for train: 600.67\n",
      "Root mean squared error for test: 599.02\n",
      "Root mean squared error for train: 600.84\n",
      "Root mean squared error for test: 599.18\n",
      "Root mean squared error for train: 601.00\n",
      "Root mean squared error for test: 599.33\n",
      "Root mean squared error for train: 601.15\n",
      "Root mean squared error for test: 599.48\n",
      "Root mean squared error for train: 601.31\n",
      "Root mean squared error for test: 599.64\n",
      "Root mean squared error for train: 601.47\n",
      "Root mean squared error for test: 599.80\n",
      "Root mean squared error for train: 601.64\n",
      "Root mean squared error for test: 599.96\n",
      "Root mean squared error for train: 601.81\n",
      "Root mean squared error for test: 600.12\n",
      "Root mean squared error for train: 601.98\n",
      "Root mean squared error for test: 600.28\n",
      "Root mean squared error for train: 602.15\n",
      "Root mean squared error for test: 600.45\n",
      "Root mean squared error for train: 602.32\n",
      "Root mean squared error for test: 600.62\n",
      "Root mean squared error for train: 602.50\n",
      "Root mean squared error for test: 600.79\n",
      "Root mean squared error for train: 602.68\n",
      "Root mean squared error for test: 600.97\n",
      "Root mean squared error for train: 602.86\n",
      "Root mean squared error for test: 601.15\n",
      "Root mean squared error for train: 603.05\n",
      "Root mean squared error for test: 601.33\n",
      "Root mean squared error for train: 603.24\n",
      "Root mean squared error for test: 601.51\n",
      "Root mean squared error for train: 603.42\n",
      "Root mean squared error for test: 601.69\n",
      "Root mean squared error for train: 603.61\n",
      "Root mean squared error for test: 601.88\n",
      "Root mean squared error for train: 603.80\n",
      "Root mean squared error for test: 602.06\n",
      "Root mean squared error for train: 603.99\n",
      "Root mean squared error for test: 602.25\n",
      "Root mean squared error for train: 604.18\n",
      "Root mean squared error for test: 602.43\n",
      "Root mean squared error for train: 604.35\n",
      "Root mean squared error for test: 602.60\n",
      "Root mean squared error for train: 604.52\n",
      "Root mean squared error for test: 602.77\n",
      "Root mean squared error for train: 604.69\n",
      "Root mean squared error for test: 602.94\n",
      "Root mean squared error for train: 604.87\n",
      "Root mean squared error for test: 603.12\n",
      "Root mean squared error for train: 605.05\n",
      "Root mean squared error for test: 603.29\n",
      "Root mean squared error for train: 605.23\n",
      "Root mean squared error for test: 603.47\n",
      "Root mean squared error for train: 605.41\n",
      "Root mean squared error for test: 603.65\n",
      "Root mean squared error for train: 605.60\n",
      "Root mean squared error for test: 603.84\n",
      "Root mean squared error for train: 605.79\n",
      "Root mean squared error for test: 604.02\n",
      "Root mean squared error for train: 605.98\n",
      "Root mean squared error for test: 604.21\n",
      "Root mean squared error for train: 606.17\n",
      "Root mean squared error for test: 604.40\n",
      "Root mean squared error for train: 606.36\n",
      "Root mean squared error for test: 604.59\n",
      "Root mean squared error for train: 606.56\n",
      "Root mean squared error for test: 604.78\n",
      "Root mean squared error for train: 606.76\n",
      "Root mean squared error for test: 604.98\n",
      "Root mean squared error for train: 606.96\n",
      "Root mean squared error for test: 605.17\n",
      "Root mean squared error for train: 607.16\n",
      "Root mean squared error for test: 605.37\n",
      "Root mean squared error for train: 607.36\n",
      "Root mean squared error for test: 605.58\n",
      "Root mean squared error for train: 607.57\n",
      "Root mean squared error for test: 605.78\n",
      "Root mean squared error for train: 607.78\n",
      "Root mean squared error for test: 605.99\n",
      "Root mean squared error for train: 607.99\n",
      "Root mean squared error for test: 606.20\n",
      "Root mean squared error for train: 608.20\n",
      "Root mean squared error for test: 606.41\n"
     ]
    },
    {
     "name": "stdout",
     "output_type": "stream",
     "text": [
      "Root mean squared error for train: 608.42\n",
      "Root mean squared error for test: 606.62\n",
      "[591.4155672950541, 591.5092907574001, 591.6649817691649, 591.8905540232211, 592.1356368222652, 592.4031614498787, 592.6773534601319, 592.9307740779834, 593.2097587658197, 593.4581592705081, 593.7013770276182, 593.9344279436302, 594.1110878259205, 594.2592326255259, 594.4137844342156, 594.5620298952425, 594.7167504082004, 594.8588028456877, 595.004497134325, 595.15877756599, 595.3174962461333, 595.4703384956507, 595.6263361134986, 595.7875930306931, 595.9467609366886, 596.1121803642799, 596.2651486569608, 596.4158347715157, 596.5685664244918, 596.7246130895783, 596.8839440566211, 597.0218853833587, 597.156552448559, 597.2855061698906, 597.4184009296905, 597.5551752850872, 597.6958777422267, 597.8404875658445, 597.9793775104121, 598.1163952664027, 598.23354541853, 598.3536379381642, 598.476673697472, 598.6026552990406, 598.7315726720681, 598.8634283531148, 598.9982216403137, 599.1359278620442, 599.2760743639211, 599.4191383920707, 599.5651172493676, 599.7176129930958, 599.8740352388751, 600.0334530632629, 600.1934231123864, 600.3503277830516, 600.510068405471, 600.6726445681546, 600.8355304537664, 600.9958305387614, 601.1532463988473, 601.3126473883374, 601.474640539576, 601.6392224264184, 601.8063922102202, 601.9761464809256, 602.1484836822736, 602.3234021603678, 602.5008985141558, 602.6809715914417, 602.8636179763852, 603.0488358915491, 603.2366234755142, 603.4229349832082, 603.6110364314266, 603.8016375554654, 603.9947355484219, 604.17738530424, 604.347702793684, 604.5201690692737, 604.6947823022767, 604.8715415171819, 605.0504430718279, 605.2314859345606, 605.4146681909809, 605.5999888698201, 605.7874440818284, 605.9770328014688, 606.1687540561023, 606.3626037961498, 606.5585809975457, 606.7566835886231, 606.9569105821969, 607.1592576873654, 607.3637238740125, 607.5703070074507, 607.779006102294, 607.9898166422216, 608.2027375901594, 608.4177679567657] [589.9600964192067, 590.0986357382616, 590.2558603561893, 590.4878665380592, 590.758284047545, 591.0543605265955, 591.3464073472416, 591.6141031337266, 591.9077256616534, 592.168672587159, 592.422680591451, 592.6559503192323, 592.8193108601612, 592.9535936289459, 593.095208530766, 593.2274535962191, 593.3666122788707, 593.4954064866821, 593.6277129686356, 593.7686069022108, 593.9139274412466, 594.0555549606507, 594.2024502503338, 594.3551988305815, 594.5099063072769, 594.671209231779, 594.8157870159984, 594.9562592507468, 595.0990255225299, 595.2452750502894, 595.3952716321986, 595.5287115276059, 595.6599834701963, 595.7868834532435, 595.9177641293055, 596.052537425453, 596.1912759938019, 596.3339469964513, 596.4694902138457, 596.6023533320064, 596.7118661811134, 596.8243186492872, 596.9397124885642, 597.058045339501, 597.1793185969558, 597.3035295042677, 597.4306724678095, 597.5607290084507, 597.6931221230116, 597.8284342254993, 597.966667753276, 598.1105600020542, 598.258160141917, 598.4087588202646, 598.560478538306, 598.7105061991339, 598.8633745692562, 599.0190730773294, 599.1757524538764, 599.3312546657911, 599.483830653024, 599.6383931487702, 599.7955498223084, 599.9553072941494, 600.1176547970006, 600.2825989156685, 600.4501331698219, 600.620251054585, 600.7929590331693, 600.9682462314588, 601.1461190218868, 601.3265707638342, 601.5095949108247, 601.6921202281447, 601.876610971999, 602.063613499333, 602.2531160413689, 602.4327033619979, 602.6005457055405, 602.7705353310726, 602.9426704865828, 603.1169546298585, 603.2933752371537, 603.4719357521834, 603.6526343168217, 603.835474351933, 604.0204432072509, 604.2075442887458, 604.3967809633622, 604.5881406057173, 604.7816265714526, 604.9772367652428, 605.1749744266872, 605.3748267772494, 605.5767970866336, 605.7808832587134, 605.9870884948573, 606.1953999173215, 606.4058207043745, 606.6183540043854]\n"
     ]
    }
   ],
   "source": [
    "alpha_lst = np.arange(0, 10, 0.1)\n",
    "RMSE_train = [0]*len(alpha_lst)\n",
    "RMSE_test = [0]*len(alpha_lst)\n",
    "from sklearn import linear_model\n",
    "\n",
    "for i in range(len(alpha_lst)):\n",
    "    model_run = lin_model_lasso(X_train, Y_train, X_test, Y_test, alpha_lst[i])\n",
    "    RMSE_train[i] = model_run[1]\n",
    "    RMSE_test[i] = model_run[2]\n",
    "print(RMSE_train,RMSE_test)"
   ]
  },
  {
   "cell_type": "code",
   "execution_count": 35,
   "metadata": {},
   "outputs": [
    {
     "data": {
      "image/png": "[encoded data removed]",
      "text/plain": [
       "<matplotlib.figure.Figure at 0x22c1daa90>"
      ]
     },
     "metadata": {},
     "output_type": "display_data"
    }
   ],
   "source": [
    "import matplotlib.pyplot as plt\n",
    "import numpy as np\n",
    "\n",
    "plt.plot(alpha_lst, RMSE_train)\n",
    "plt.plot(alpha_lst, RMSE_test)\n",
    "plt.legend(['RMSE_train', 'RMSE_test'], loc='upper left')\n",
    "plt.show()"
   ]
  },
  {
   "cell_type": "markdown",
   "metadata": {},
   "source": [
    "### Ridge Regression: find the best alpha"
   ]
  },
  {
   "cell_type": "code",
   "execution_count": 42,
   "metadata": {},
   "outputs": [
    {
     "name": "stdout",
     "output_type": "stream",
     "text": [
      "Root mean squared error for train: 3646728836586476355273733911347200.00\n",
      "Root mean squared error for test: 3669287604680430600796716832653312.00\n",
      "Root mean squared error for train: 591.42\n",
      "Root mean squared error for test: 589.96\n",
      "Root mean squared error for train: 591.42\n",
      "Root mean squared error for test: 589.96\n",
      "Root mean squared error for train: 591.42\n",
      "Root mean squared error for test: 589.96\n",
      "Root mean squared error for train: 591.42\n",
      "Root mean squared error for test: 589.96\n",
      "Root mean squared error for train: 591.42\n",
      "Root mean squared error for test: 589.96\n",
      "Root mean squared error for train: 591.42\n",
      "Root mean squared error for test: 589.96\n",
      "Root mean squared error for train: 591.42\n",
      "Root mean squared error for test: 589.96\n",
      "Root mean squared error for train: 591.42\n",
      "Root mean squared error for test: 589.96\n",
      "Root mean squared error for train: 591.42\n",
      "Root mean squared error for test: 589.97\n",
      "Root mean squared error for train: 591.42\n",
      "Root mean squared error for test: 589.97\n",
      "Root mean squared error for train: 591.42\n",
      "Root mean squared error for test: 589.97\n",
      "Root mean squared error for train: 591.42\n",
      "Root mean squared error for test: 589.97\n",
      "Root mean squared error for train: 591.42\n",
      "Root mean squared error for test: 589.97\n",
      "Root mean squared error for train: 591.42\n",
      "Root mean squared error for test: 589.97\n",
      "Root mean squared error for train: 591.42\n",
      "Root mean squared error for test: 589.97\n",
      "Root mean squared error for train: 591.42\n",
      "Root mean squared error for test: 589.97\n",
      "Root mean squared error for train: 591.42\n",
      "Root mean squared error for test: 589.97\n",
      "Root mean squared error for train: 591.42\n",
      "Root mean squared error for test: 589.97\n",
      "Root mean squared error for train: 591.42\n",
      "Root mean squared error for test: 589.97\n",
      "Root mean squared error for train: 591.42\n",
      "Root mean squared error for test: 589.97\n",
      "Root mean squared error for train: 591.42\n",
      "Root mean squared error for test: 589.97\n",
      "Root mean squared error for train: 591.42\n",
      "Root mean squared error for test: 589.97\n",
      "Root mean squared error for train: 591.42\n",
      "Root mean squared error for test: 589.97\n",
      "Root mean squared error for train: 591.42\n",
      "Root mean squared error for test: 589.97\n",
      "Root mean squared error for train: 591.42\n",
      "Root mean squared error for test: 589.97\n",
      "Root mean squared error for train: 591.42\n",
      "Root mean squared error for test: 589.97\n",
      "Root mean squared error for train: 591.42\n",
      "Root mean squared error for test: 589.97\n",
      "Root mean squared error for train: 591.42\n",
      "Root mean squared error for test: 589.97\n",
      "Root mean squared error for train: 591.42\n",
      "Root mean squared error for test: 589.97\n",
      "Root mean squared error for train: 591.42\n",
      "Root mean squared error for test: 589.97\n",
      "Root mean squared error for train: 591.42\n",
      "Root mean squared error for test: 589.97\n",
      "Root mean squared error for train: 591.42\n",
      "Root mean squared error for test: 589.97\n",
      "Root mean squared error for train: 591.42\n",
      "Root mean squared error for test: 589.97\n",
      "Root mean squared error for train: 591.42\n",
      "Root mean squared error for test: 589.97\n",
      "Root mean squared error for train: 591.42\n",
      "Root mean squared error for test: 589.97\n",
      "Root mean squared error for train: 591.42\n",
      "Root mean squared error for test: 589.97\n",
      "Root mean squared error for train: 591.42\n",
      "Root mean squared error for test: 589.97\n",
      "Root mean squared error for train: 591.43\n",
      "Root mean squared error for test: 589.97\n",
      "Root mean squared error for train: 591.43\n",
      "Root mean squared error for test: 589.97\n",
      "Root mean squared error for train: 591.43\n",
      "Root mean squared error for test: 589.97\n",
      "Root mean squared error for train: 591.43\n",
      "Root mean squared error for test: 589.97\n",
      "Root mean squared error for train: 591.43\n",
      "Root mean squared error for test: 589.97\n",
      "Root mean squared error for train: 591.43\n",
      "Root mean squared error for test: 589.97\n",
      "Root mean squared error for train: 591.43\n",
      "Root mean squared error for test: 589.97\n",
      "Root mean squared error for train: 591.43\n",
      "Root mean squared error for test: 589.97\n",
      "Root mean squared error for train: 591.43\n",
      "Root mean squared error for test: 589.97\n",
      "Root mean squared error for train: 591.43\n",
      "Root mean squared error for test: 589.97\n",
      "Root mean squared error for train: 591.43\n",
      "Root mean squared error for test: 589.98\n",
      "Root mean squared error for train: 591.43\n",
      "Root mean squared error for test: 589.98\n",
      "Root mean squared error for train: 591.43\n",
      "Root mean squared error for test: 589.98\n",
      "Root mean squared error for train: 591.43\n",
      "Root mean squared error for test: 589.98\n",
      "Root mean squared error for train: 591.43\n",
      "Root mean squared error for test: 589.98\n",
      "Root mean squared error for train: 591.43\n",
      "Root mean squared error for test: 589.98\n",
      "Root mean squared error for train: 591.43\n",
      "Root mean squared error for test: 589.98\n",
      "Root mean squared error for train: 591.43\n",
      "Root mean squared error for test: 589.98\n",
      "Root mean squared error for train: 591.43\n",
      "Root mean squared error for test: 589.98\n",
      "Root mean squared error for train: 591.43\n",
      "Root mean squared error for test: 589.98\n",
      "Root mean squared error for train: 591.43\n",
      "Root mean squared error for test: 589.98\n",
      "Root mean squared error for train: 591.43\n",
      "Root mean squared error for test: 589.98\n",
      "Root mean squared error for train: 591.43\n",
      "Root mean squared error for test: 589.98\n",
      "Root mean squared error for train: 591.43\n",
      "Root mean squared error for test: 589.98\n",
      "Root mean squared error for train: 591.43\n",
      "Root mean squared error for test: 589.98\n",
      "Root mean squared error for train: 591.43\n",
      "Root mean squared error for test: 589.98\n",
      "Root mean squared error for train: 591.43\n",
      "Root mean squared error for test: 589.98\n",
      "Root mean squared error for train: 591.43\n",
      "Root mean squared error for test: 589.98\n",
      "Root mean squared error for train: 591.43\n",
      "Root mean squared error for test: 589.98\n",
      "Root mean squared error for train: 591.43\n",
      "Root mean squared error for test: 589.98\n",
      "Root mean squared error for train: 591.43\n",
      "Root mean squared error for test: 589.98\n",
      "Root mean squared error for train: 591.43\n",
      "Root mean squared error for test: 589.98\n",
      "Root mean squared error for train: 591.43\n",
      "Root mean squared error for test: 589.98\n",
      "Root mean squared error for train: 591.43\n",
      "Root mean squared error for test: 589.98\n",
      "Root mean squared error for train: 591.43\n",
      "Root mean squared error for test: 589.98\n",
      "Root mean squared error for train: 591.43\n",
      "Root mean squared error for test: 589.98\n",
      "Root mean squared error for train: 591.43\n",
      "Root mean squared error for test: 589.98\n",
      "Root mean squared error for train: 591.43\n",
      "Root mean squared error for test: 589.98\n",
      "Root mean squared error for train: 591.43\n",
      "Root mean squared error for test: 589.98\n",
      "Root mean squared error for train: 591.43\n",
      "Root mean squared error for test: 589.98\n",
      "Root mean squared error for train: 591.43\n",
      "Root mean squared error for test: 589.98\n",
      "Root mean squared error for train: 591.43\n",
      "Root mean squared error for test: 589.98\n",
      "Root mean squared error for train: 591.43\n",
      "Root mean squared error for test: 589.98\n",
      "Root mean squared error for train: 591.43\n",
      "Root mean squared error for test: 589.98\n",
      "Root mean squared error for train: 591.43\n",
      "Root mean squared error for test: 589.98\n",
      "Root mean squared error for train: 591.43\n",
      "Root mean squared error for test: 589.98\n",
      "Root mean squared error for train: 591.43\n",
      "Root mean squared error for test: 589.98\n",
      "Root mean squared error for train: 591.43\n",
      "Root mean squared error for test: 589.98\n",
      "Root mean squared error for train: 591.43\n",
      "Root mean squared error for test: 589.98\n",
      "Root mean squared error for train: 591.43\n",
      "Root mean squared error for test: 589.98\n",
      "Root mean squared error for train: 591.43\n",
      "Root mean squared error for test: 589.98\n",
      "Root mean squared error for train: 591.43\n",
      "Root mean squared error for test: 589.98\n",
      "Root mean squared error for train: 591.43\n",
      "Root mean squared error for test: 589.98\n",
      "Root mean squared error for train: 591.43\n",
      "Root mean squared error for test: 589.98\n",
      "Root mean squared error for train: 591.43\n",
      "Root mean squared error for test: 589.98\n",
      "Root mean squared error for train: 591.43\n",
      "Root mean squared error for test: 589.98\n",
      "Root mean squared error for train: 591.43\n",
      "Root mean squared error for test: 589.98\n",
      "Root mean squared error for train: 591.43\n",
      "Root mean squared error for test: 589.98\n",
      "Root mean squared error for train: 591.43\n",
      "Root mean squared error for test: 589.98\n",
      "Root mean squared error for train: 591.43\n",
      "Root mean squared error for test: 589.99\n"
     ]
    },
    {
     "name": "stdout",
     "output_type": "stream",
     "text": [
      "Root mean squared error for train: 591.43\n",
      "Root mean squared error for test: 589.99\n",
      "Root mean squared error for train: 591.43\n",
      "Root mean squared error for test: 589.99\n",
      "[3.6467288365864764e+33, 591.4156453661747, 591.4158388623366, 591.4161040704823, 591.4164129606665, 591.416747223524, 591.4170947451921, 591.4174474518526, 591.4177999538373, 591.4181486719374, 591.4184912627586, 591.4188262340772, 591.4191526834818, 591.4194701185065, 591.4197783315072, 591.4200773118417, 591.4203671837944, 591.4206481624615, 591.4209205222905, 591.4211845746116, 591.4214406516002, 591.4216890948716, 591.4219302474248, 591.422164448019, 591.4223920273173, 591.4226133053218, 591.4228285897448, 591.4230381750614, 591.4232423420542, 591.4234413577096, 591.4236354753646, 591.4238249350261, 591.4240099638076, 591.4241907764408, 591.4243675758333, 591.4245405536485, 591.4247098908922, 591.4248757584944, 591.4250383178779, 591.4251977215094, 591.4253541134271, 591.4255076297444, 591.4256583991295, 591.4258065432564, 591.4259521772328, 591.4260954100012, 591.4262363447158, 591.4263750790965, 591.4265117057597, 591.4266463125288, 591.4267789827242, 591.4269097954343, 591.4270388257688, 591.4271661450957, 591.4272918212635, 591.4274159188063, 591.4275384991387, 591.4276596207359, 591.4277793393023, 591.4278977079307, 591.4280147772486, 591.4281305955575, 591.4282452089623, 591.4283586614924, 591.4284709952152, 591.4285822503427, 591.4286924653317, 591.4288016769767, 591.4289099204984, 591.4290172296265, 591.4291236366762, 591.4292291726217, 591.429333867165, 591.4294377488001, 591.4295408448729, 591.4296431816397, 591.4297447843197, 591.4298456771464, 591.4299458834157, 591.4300454255296, 591.4301443250404, 591.43024260269, 591.4303402784477, 591.4304373715469, 591.4305339005177, 591.4306298832205, 591.4307253368752, 591.4308202780904, 591.4309147228903, 591.431008686741, 591.4311021845748, 591.4311952308125, 591.4312878393869, 591.431380023762, 591.4314717969548, 591.431563171552, 591.4316541597292, 591.4317447732677, 591.4318350235703, 591.4319249216771] [3.6692876046804306e+33, 589.9608124796407, 589.9614923399935, 589.9621295306454, 589.9627235646794, 589.963276700731, 589.9637923322888, 589.964274183598, 589.9647259158659, 589.9651509454281, 589.9655523718583, 589.9659329624759, 589.9662951647804, 589.9666411316024, 589.9669727508962, 589.9672916759782, 589.9675993541393, 589.9678970527137, 589.9681858823151, 589.9684668172649, 589.9687407134102, 589.9690083235781, 589.9692703109475, 589.9695272605973, 589.9697796894768, 589.9700280550159, 589.970272762564, 589.9705141718267, 589.9707526024391, 589.9709883388028, 589.9712216342862, 589.9714527148811, 589.9716817823906, 589.9719090172126, 589.9721345807744, 589.972358617667, 589.9725812575185, 589.9728026166401, 589.9730227994775, 589.9732418998894, 589.9734600022792, 589.9736771825939, 589.9738935092108, 589.9741090437246, 589.9743238416456, 589.9745379530221, 589.9747514229941, 589.9749642922883, 589.9751765976588, 589.9753883722825, 589.9755996461128, 589.9758104461949, 589.9760207969524, 589.9762307204404, 589.9764402365755, 589.9766493633427, 589.9768581169807, 589.9770665121496, 589.9772745620817, 589.9774822787182, 589.9776896728322, 589.9778967541403, 589.9781035314027, 589.9783100125148, 589.9785162045902, 589.9787221140341, 589.9789277466126, 589.9791331075135, 589.9793382014018, 589.9795430324707, 589.9797476044882, 589.9799519208376, 589.9801559845562, 589.9803597983698, 589.9805633647242, 589.9807666858127, 589.9809697636033, 589.9811725998616, 589.9813751961722, 589.9815775539583, 589.9817796744996, 589.981981558948, 589.9821832083423, 589.9823846236219, 589.9825858056383, 589.9827867551668, 589.9829874729155, 589.9831879595351, 589.9833882156267, 589.9835882417497, 589.9837880384274, 589.9839876061544, 589.9841869454013, 589.9843860566199, 589.9845849402475, 589.984783596711, 589.9849820264305, 589.9851802298227, 589.9853782073033, 589.9855759592903]\n"
     ]
    }
   ],
   "source": [
    "alpha_lst = np.arange(0, 10, 0.1)\n",
    "RMSE_train = [0]*len(alpha_lst)\n",
    "RMSE_test = [0]*len(alpha_lst)\n",
    "from sklearn.linear_model import Ridge\n",
    "\n",
    "for i in range(len(alpha_lst)):\n",
    "    model_run = lin_model_ridge(X_train, Y_train, X_test, Y_test, alpha_lst[i])\n",
    "    RMSE_train[i] = model_run[1]\n",
    "    RMSE_test[i] = model_run[2]\n",
    "print(RMSE_train,RMSE_test)"
   ]
  },
  {
   "cell_type": "code",
   "execution_count": 51,
   "metadata": {},
   "outputs": [
    {
     "data": {
      "image/png": "[encoded data removed]",
      "text/plain": [
       "<matplotlib.figure.Figure at 0x22eb63128>"
      ]
     },
     "metadata": {},
     "output_type": "display_data"
    }
   ],
   "source": [
    "import matplotlib.pyplot as plt\n",
    "import numpy as np\n",
    "\n",
    "plt.plot(alpha_lst[1:], RMSE_train[1:])\n",
    "plt.plot(alpha_lst[1:], RMSE_test[1:])\n",
    "plt.legend(['RMSE_train', 'RMSE_test'], loc='upper left')\n",
    "plt.show()"
   ]
  },
  {
   "cell_type": "markdown",
   "metadata": {},
   "source": [
    "### Random Forest Model"
   ]
  },
  {
   "cell_type": "code",
   "execution_count": 34,
   "metadata": {},
   "outputs": [
    {
     "name": "stdout",
     "output_type": "stream",
     "text": [
      "Root mean squared error for train: 665.47\n",
      "Root mean squared error for test: 664.68\n"
     ]
    }
   ],
   "source": [
    "from sklearn.ensemble import RandomForestRegressor\n",
    "rf_model = rf_model(X_train, Y_train, X_test, Y_test)"
   ]
  },
  {
   "cell_type": "markdown",
   "metadata": {},
   "source": [
    "### Grid Search best hyper parameters for RF model"
   ]
  },
  {
   "cell_type": "code",
   "execution_count": 57,
   "metadata": {},
   "outputs": [
    {
     "name": "stdout",
     "output_type": "stream",
     "text": [
      "0.186093201827\n",
      "{'bootstrap': True, 'max_depth': 5, 'max_features': 20, 'min_samples_leaf': 10, 'min_samples_split': 50, 'n_estimators': 1000}\n"
     ]
    }
   ],
   "source": [
    "best_parameters_rf = rf_model_grid_search(X_train, Y_train)"
   ]
  },
  {
   "cell_type": "code",
   "execution_count": 60,
   "metadata": {},
   "outputs": [
    {
     "data": {
      "text/plain": [
       "{'bootstrap': True,\n",
       " 'max_depth': 5,\n",
       " 'max_features': 20,\n",
       " 'min_samples_leaf': 10,\n",
       " 'min_samples_split': 50,\n",
       " 'n_estimators': 1000}"
      ]
     },
     "execution_count": 60,
     "metadata": {},
     "output_type": "execute_result"
    }
   ],
   "source": [
    "best_parameters_rf"
   ]
  },
  {
   "cell_type": "markdown",
   "metadata": {},
   "source": [
    "### Fit the RF model using best parameters found"
   ]
  },
  {
   "cell_type": "code",
   "execution_count": 61,
   "metadata": {},
   "outputs": [
    {
     "name": "stdout",
     "output_type": "stream",
     "text": [
      "Root mean squared error for train: 644.90\n",
      "Root mean squared error for test: 644.03\n"
     ]
    }
   ],
   "source": [
    "rf_model_best = rf_with_best_parameters(X_train, Y_train, X_test, Y_test,best_parameters_rf)"
   ]
  },
  {
   "cell_type": "markdown",
   "metadata": {},
   "source": [
    "### GBM model"
   ]
  },
  {
   "cell_type": "code",
   "execution_count": 35,
   "metadata": {},
   "outputs": [
    {
     "name": "stdout",
     "output_type": "stream",
     "text": [
      "Root mean squared error for train: 600.67\n",
      "Root mean squared error for test: 602.05\n"
     ]
    }
   ],
   "source": [
    "from sklearn import ensemble\n",
    "gbm_model = gbm_model(X_train, Y_train, X_test, Y_test)"
   ]
  },
  {
   "cell_type": "markdown",
   "metadata": {},
   "source": [
    "### Grid Search best hyper parameters for GBM model"
   ]
  },
  {
   "cell_type": "code",
   "execution_count": 56,
   "metadata": {},
   "outputs": [
    {
     "name": "stdout",
     "output_type": "stream",
     "text": [
      "0.381693403666\n",
      "{'learning_rate': 0.1, 'max_depth': 5, 'min_samples_split': 10}\n"
     ]
    }
   ],
   "source": [
    "best_parameters_gbm = gbm_model_grid_search(X_train, Y_train)"
   ]
  },
  {
   "cell_type": "markdown",
   "metadata": {},
   "source": [
    "### Fit the GBM model using best parameters found"
   ]
  },
  {
   "cell_type": "code",
   "execution_count": 58,
   "metadata": {},
   "outputs": [
    {
     "name": "stdout",
     "output_type": "stream",
     "text": [
      "Root mean squared error for train: 563.85\n",
      "Root mean squared error for test: 571.78\n"
     ]
    }
   ],
   "source": [
    "gbm_model_best = gbm_with_best_parameters(X_train, Y_train, X_test, Y_test,best_parameters_gbm)"
   ]
  },
  {
   "cell_type": "markdown",
   "metadata": {},
   "source": [
    "### Since GBM model achieves the best performance, refit GBM using all training set"
   ]
  },
  {
   "cell_type": "code",
   "execution_count": 60,
   "metadata": {},
   "outputs": [
    {
     "name": "stdout",
     "output_type": "stream",
     "text": [
      "Root mean squared error for train: 566.91\n"
     ]
    }
   ],
   "source": [
    "gbm_model_use = gbm_with_best_parameters_whole_train_set(Train_ready_encoded, target_in_train, best_parameters_gbm)"
   ]
  },
  {
   "cell_type": "markdown",
   "metadata": {
    "collapsed": true
   },
   "source": [
    "## Model persistence"
   ]
  },
  {
   "cell_type": "markdown",
   "metadata": {},
   "source": [
    "### Save Trained GBM model to local folder"
   ]
  },
  {
   "cell_type": "code",
   "execution_count": 61,
   "metadata": {},
   "outputs": [
    {
     "data": {
      "text/plain": [
       "['gbm_model_saved.pkl']"
      ]
     },
     "execution_count": 61,
     "metadata": {},
     "output_type": "execute_result"
    }
   ],
   "source": [
    "joblib.dump(gbm_model_use, 'gbm_model_saved.pkl')"
   ]
  },
  {
   "cell_type": "markdown",
   "metadata": {},
   "source": [
    "### Testing: load the saved GBM model and make some predictions"
   ]
  },
  {
   "cell_type": "code",
   "execution_count": 62,
   "metadata": {
    "collapsed": true
   },
   "outputs": [],
   "source": [
    "gbm_pred = make_prediction('gbm_model_saved.pkl', X_test)"
   ]
  },
  {
   "cell_type": "code",
   "execution_count": 65,
   "metadata": {},
   "outputs": [
    {
     "name": "stdout",
     "output_type": "stream",
     "text": [
      "78969\n"
     ]
    }
   ],
   "source": [
    "print(len(gbm_pred))"
   ]
  },
  {
   "cell_type": "code",
   "execution_count": 66,
   "metadata": {},
   "outputs": [
    {
     "data": {
      "text/plain": [
       "array([ 2293.50835784,  2838.62334103,  2251.74874425,  2240.7351142 ,\n",
       "        2416.20007106,  2501.93681813,  2561.08997439,  2275.75416258,\n",
       "        2998.79859211,  2248.73661143,  3098.01418079,  2359.43527697,\n",
       "        2831.39361821,  2402.98098392,  3033.23640343,  3122.78087725,\n",
       "        2559.8937146 ,  2720.02531779,  2467.67426725,  2498.88182806])"
      ]
     },
     "execution_count": 66,
     "metadata": {},
     "output_type": "execute_result"
    }
   ],
   "source": [
    "gbm_pred[:20]"
   ]
  },
  {
   "cell_type": "code",
   "execution_count": null,
   "metadata": {
    "collapsed": true
   },
   "outputs": [],
   "source": []
  }
 ],
 "metadata": {
  "kernelspec": {
   "display_name": "Python 3",
   "language": "python",
   "name": "python3"
  },
  "language_info": {
   "codemirror_mode": {
    "name": "ipython",
    "version": 3
   },
   "file_extension": ".py",
   "mimetype": "text/x-python",
   "name": "python",
   "nbconvert_exporter": "python",
   "pygments_lexer": "ipython3",
   "version": "3.6.3"
  }
 },
 "nbformat": 4,
 "nbformat_minor": 2
}
